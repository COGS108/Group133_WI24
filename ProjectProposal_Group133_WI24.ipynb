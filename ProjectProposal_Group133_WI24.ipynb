{
 "cells": [
  {
   "cell_type": "markdown",
   "metadata": {},
   "source": [
    "# COGS 108 - Project Proposal"
   ]
  },
  {
   "cell_type": "markdown",
   "metadata": {},
   "source": [
    "# Names\n",
    "\n",
    "- Thadius Freebourn\n",
    "- Yijun Luo\n",
    "- Eve Nguyen\n",
    "- Kiko Pan\n",
    "- Qingtong Zou"
   ]
  },
  {
   "cell_type": "markdown",
   "metadata": {},
   "source": [
    "# Research Question"
   ]
  },
  {
   "cell_type": "markdown",
   "metadata": {},
   "source": [
    "Does the level of involvement in campus team sports among UCSD students correlate with their academic pursuits, specifically examining the differences in participation between STEM majors and non-STEM majors? If so, which group, non-STEM or STEM students, demonstrates a higher level of participation in campus team sports?\n",
    "\n"
   ]
  },
  {
   "cell_type": "markdown",
   "metadata": {},
   "source": [
    "## Background and Prior Work"
   ]
  },
  {
   "cell_type": "markdown",
   "metadata": {},
   "source": [
    "\n",
    "Participating in extracurricular activities while balancing school can be challenging. Student-athletes generally have a busier schedule than most students. They have to juggle and coordinate their training schedules, assignment deadlines, class attendance, and more. \n",
    "\n",
    "Sports schedules and academic schedules can be difficult to manage. We recognize that the academic workload on STEM majors is generally more extensive than non-STEM majors. Given this, we wanted to explore whether or not being a student-athlete correlates with academic pursuits. Specifically, we aim to investigate if there are differences in athletic participation between STEM majors and non-STEM majors at UCSD given its heavy STEM influence. \n",
    "\n",
    "In a study that investigates the relationship between athletic identity and the selection of academic majors among college student-athletes, they found that students who care more about sports generally choose a major with decreased academic rigor. <a name=\"cite_ref-1\"></a>[<sup>1</sup>](#cite_note-1) Based on the findings from this study, we can assume that there is likely a positive correlation between athletic participation and non-STEM majors at UCSD. \n",
    "\n",
    "In a complementary exploration of the intersection between athletic engagement and academic preferences, a blog titled 'Why do athletes choose social sciences over STEM? We looked at the numbers.' provides valuable insights into the academic choices of student-athletes. [<a name=\"cite_ref-2\"></a>[<sup>2</sup>](#cite_note-2) The blog highlights that athletes at Princeton University are notably overrepresented in 12 departments, with 35.7 percent majoring in politics, 34.1 percent in economics, and 33.8 percent in sociology. These statistics, according to Associate Dean Alec Dun, suggest a correlation between athletic participation and academic interests rather than variations in the ability to meet concentration requirements. Dun, acting as a liaison to the Athletic Department, sheds light on the academic trends of student-athletes, emphasizing that their choices are indicative of personal preferences rather than limitations in pursuing STEM concentrations."
   ]
  },
  {
   "cell_type": "markdown",
   "metadata": {},
   "source": [
    "![princeton vis](images/background-princeton.png)"
   ]
  },
  {
   "cell_type": "markdown",
   "metadata": {},
   "source": [
    "Building upon these findings, our research seeks to delve deeper into the relationship between athletic participation and academic pursuits among UCSD students. Specifically, we aim to assess whether similar patterns exist within the STEM and non-STEM domains, considering the university's prominent emphasis on STEM disciplines. By examining the nuances of student-athlete involvement, we aim to contribute valuable insights into the dynamic interplay between extracurricular commitments and academic pathways, with a focus on the distinctions between STEM and non-STEM majors at UCSD. \n",
    "\n",
    "\n",
    "1. <a name=\"cite_note-1\"></a> [^](#cite_ref-1) Foster, S. J. L., & Huml, M. R. (2017). The Relationship Between Athletic Identity and Academic Major Chosen by Student-Athletes. International journal of exercise science, 10(6), 915–925. https://www.ncbi.nlm.nih.gov/pmc/articles/PMC5685074/ \n",
    "2. <a name=\"cite_note-2\"></a> [^](#cite_ref-2) Taylor, M. (2022, April 12). Why do athletes choose Social Sciences over STEM? We looked at the numbers. The Princetonian. https://www.dailyprincetonian.com/article/2022/04/princeton-student-athletes-stem-majors-social-sciences  \n"
   ]
  },
  {
   "cell_type": "markdown",
   "metadata": {},
   "source": [
    "# Hypothesis\n"
   ]
  },
  {
   "cell_type": "markdown",
   "metadata": {},
   "source": [
    "`Hypothesis`: non-STEM students demonstrate a higher level of participation in campus team sports. That is, there exists a correlation between the level of involvement in campus team sports among UCSD students and their academic pursuits.  \n",
    "\n",
    "Specifically, we anticipate that non-STEM majors will demonstrate a higher level of participation in campus team sports compared to their STEM counterparts. This assumption is grounded in prior research suggesting that student-athletes often exhibit preferences for academic disciplines with lower perceived academic rigor. And an intuitive reasoning behind this is that the academic workload on STEM majors is generally more extensive than non-STEM majors. And student-athletes generally have a busier schedule than most students, so it is reasonable to assume that they would choose majors that have lighter workload. \n",
    "\n"
   ]
  },
  {
   "cell_type": "markdown",
   "metadata": {},
   "source": [
    "# Data"
   ]
  },
  {
   "cell_type": "markdown",
   "metadata": {},
   "source": [
    "The ideal dataset we would like to have to answer this question is a comprehensive one that contains the names of UCSD student athletes, the types of sports they play, their academic majors, and sex. Additional detailed information such as college, high school, height, weight, and hometown is optional but welcomed. The number of observations should be as many as possible. The athlete data should include all types of sports teams available on campus and encompass all genders. Since the roster of athletes changes each year, it would be beneficial to have data from as many years as possible, so that we can conduct year by year comparisons as well. This data should be collected from the UC San Diego athlete center or scraped from the UC San Diego sports website, and stored as a CSV file, ready to be read in as a pandas dataframe.\n",
    "\n",
    "Real datasets are available through this link: https://ucsdtritons.com/index.aspx\n",
    "Select the sports of interest under \"Sports\" in the top banner. Then, select \"Statistics\" to see statistics for individuals' full bios. Therefore, this data is obtainable, but we need to write a script to scrape it if there is no existing API. If we can scrape it, then it will serve as our ideal dataset.\n"
   ]
  },
  {
   "cell_type": "markdown",
   "metadata": {},
   "source": [
    "# Ethics & Privacy"
   ]
  },
  {
   "cell_type": "markdown",
   "metadata": {},
   "source": [
    "All of the data used in this project is publicly available information found on UCSD’s official athletics website. Nowhere in UCSD’s athletics website’s Terms of Service (which is run by SIDEARM Sports) or in any other of UCSD’s websites does it prohibit the use of this publicly available data. Furthermore, for privacy, we will omit the names of the athletes in our project as it is irrelevant to the task we seek to accomplish. \n",
    "\n",
    "The data we will be using is quantitative, directly from UCSD, thus there will be no room for personal biases. However, certain confounds do exist. Firstly, since UCSD is a primarily STEM-focused university, there will likely be significantly more athletes enrolled in STEM majors than non-STEM majors. To resolve this confound, we will factor in the overall proportion of STEM vs. non-STEM majors at UCSD to account for how athletes’ major choices may be affected. \n",
    "\n",
    "Secondly, with the given data, we are only able to see athletes’ majors, not minors. This means an athlete might have a non-STEM major, but have a STEM minor(s) or vice versa, and will be considered as such since we would have no knowledge of the minor(s). To resolve this confound, we will examine the proportions of UCSD students who have minors, which minors are most popular, etc. This data will help us better predict the proportion of student athletes who might have minors, allowing us to make more informed conclusions from our data.   \n",
    "\n",
    "Additionally, it is common for students to change their majors, and without knowing when the major information is collected or whether the website is updated to reflect these changes, the accuracy and timeliness of the data may not be optimal. We can reach out to the athlete center to confirm that.\n"
   ]
  },
  {
   "cell_type": "markdown",
   "metadata": {},
   "source": [
    "[link to our collaboration on google doc](https://docs.google.com/document/d/12ooDXdW8CwkAunaoy8bOEyQfZ9ln0JEJifClTiibp7I/edit#heading=h.9wp4i4kwdo1y)"
   ]
  },
  {
   "cell_type": "code",
   "execution_count": null,
   "metadata": {
    "vscode": {
     "languageId": "plaintext"
    }
   },
   "outputs": [],
   "source": []
  },
  {
   "cell_type": "markdown",
   "metadata": {},
   "source": [
    "# Team Expectations "
   ]
  },
  {
   "cell_type": "markdown",
   "metadata": {},
   "source": [
    "\n",
    "Read over the [COGS108 Team Policies](https://github.com/COGS108/Projects/blob/master/COGS108_TeamPolicies.md) individually. Then, include your group’s expectations of one another for successful completion of your COGS108 project below. Discuss and agree on what all of your expectations are. Discuss how your team will communicate throughout the quarter and consider how you will communicate respectfully should conflicts arise. By including each member’s name above and by adding their name to the submission, you are indicating that you have read the COGS108 Team Policies, accept your team’s expectations below, and have every intention to fulfill them. These expectations are for your team’s use and benefit — they won’t be graded for their details.\n",
    "\n",
    "* Meet weekly on Zoom (usually on weekends)\n",
    "* Meet up in person every other week\n",
    "* Communicate throughout the week in our Instagram group chat to give project updates\n",
    "* Respond to each other's messages within 24 hours"
   ]
  },
  {
   "cell_type": "markdown",
   "metadata": {},
   "source": [
    "# Project Timeline Proposal"
   ]
  },
  {
   "cell_type": "markdown",
   "metadata": {},
   "source": [
    "Specify your team's specific project timeline.  \n",
    "\n",
    "If you think you will need any special resources or training outside what we have covered in COGS 108 to solve your problem, then your proposal should state these clearly. For example, if you have selected a problem that involves implementing multiple neural networks, please state this so we can make sure you know what you’re doing and so we can point you to resources you will need to implement your project. Note that you are not required to use outside methods.\n",
    "\n",
    "\n",
    "\n",
    "| Meeting Date  | Meeting Time| Completed Before Meeting  | Discuss at Meeting |\n",
    "|---|---|---|---|\n",
    "| 2/7  |  3 PM | Brainstorm research topics and ideas for a research question  | Pick a research topic and question | \n",
    "| 2/10  |  4 PM |  Do background research on topic; write background, data, and ethics and privacy sections  | Write research question and hypothesis sections and finalize the rest of our project proposal | \n",
    "| 2/20  | 2 PM  | Research relevant data sets  | Finalize project data sets; wrangle data sets into a tidy format   |\n",
    "| 2/24  | 4 PM  | Write data checkpoint #1 sections | Review/edit checkpoint #1 sections; make sure data is tidy   |\n",
    "| 2/29  | 2 PM  | Review data | Conduct EDA |\n",
    "| 3/9  | 4 PM  | Write data checkpoint #2 sections| Review/edit checkpoint #2 sections; go over EDA to make sure we're all on the same page |\n",
    "| 3/14  | 2 PM  | Work on final video logistics - how to present and designating roles | Film final video |\n",
    "| 3/19  | Before 11:59 PM  | Review entire project; make final edits | Turn in final report and final video |"
   ]
  },
  {
   "cell_type": "markdown",
   "metadata": {},
   "source": []
  }
 ],
 "metadata": {
  "kernelspec": {
   "display_name": "Python 3 (ipykernel)",
   "language": "python",
   "name": "python3"
  },
  "language_info": {
   "codemirror_mode": {
    "name": "ipython",
    "version": 3
   },
   "file_extension": ".py",
   "mimetype": "text/x-python",
   "name": "python",
   "nbconvert_exporter": "python",
   "pygments_lexer": "ipython3",
   "version": "3.10.9"
  }
 },
 "nbformat": 4,
 "nbformat_minor": 4
}
