{
 "cells": [
  {
   "cell_type": "markdown",
   "metadata": {},
   "source": [
    "# COGS 108 - Project Proposal"
   ]
  },
  {
   "cell_type": "markdown",
   "metadata": {},
   "source": [
    "# Names\n",
    "\n",
    "- Thadius Freebourn\n",
    "- Yijun Luo\n",
    "- Eve Nguyen\n",
    "- Kiko Pan\n",
    "- Qingtong Zou"
   ]
  },
  {
   "cell_type": "markdown",
   "metadata": {},
   "source": [
    "# Research Question"
   ]
  },
  {
   "cell_type": "markdown",
   "metadata": {},
   "source": [
    "Does the level of involvement in campus team sports among UCSD students correlate with their academic pursuits, specifically examining the differences in participation between STEM majors and non-STEM majors? If so, which group, non-STEM or STEM students, demonstrates a higher level of participation in campus team sports?\n",
    "\n"
   ]
  },
  {
   "cell_type": "markdown",
   "metadata": {},
   "source": [
    "## Background and Prior Work"
   ]
  },
  {
   "cell_type": "markdown",
   "metadata": {},
   "source": [
    "\n",
    "Participating in extracurricular activities while balancing school can be challenging. Student-athletes generally have a busier schedule than most students. They have to juggle and coordinate their training schedules, assignment deadlines, class attendance, and more. \n",
    "\n",
    "Sports schedules and academic schedules can be difficult to manage. We recognize that the academic workload on STEM majors is generally more extensive than non-STEM majors. Given this, we wanted to explore whether or not being a student-athlete correlates with academic pursuits. Specifically, we aim to investigate if there are differences in athletic participation between STEM majors and non-STEM majors at UCSD given its heavy STEM influence. \n",
    "\n",
    "In a study that investigates the relationship between athletic identity and the selection of academic majors among college student-athletes, they found that students who care more about sports generally choose a major with decreased academic rigor. <a name=\"cite_ref-1\"></a>[<sup>1</sup>](#cite_note-1) Based on the findings from this study, we can assume that there is likely a positive correlation between athletic participation and non-STEM majors at UCSD. \n",
    "\n", 
    "In a complementary exploration of the intersection between athletic engagement and academic preferences, a blog titled 'Why do athletes choose social sciences over STEM? We looked at the numbers.' provides valuable insights into the academic choices of student-athletes. <a name=\"cite_ref-2\"></a>[<sup>2</sup>](#cite_note-2) The blog highlights that athletes at UCSD are notably overrepresented in 12 departments, with 35.7 percent majoring in politics, 34.1 percent in economics, and 33.8 percent in sociology. These statistics, according to Associate Dean Alec Dun, suggest a correlation between athletic participation and academic interests rather than variations in the ability to meet concentration requirements. Dun, acting as a liaison to the Athletic Department, sheds light on the academic trends of student-athletes, emphasizing that their choices are indicative of personal preferences rather than limitations in pursuing STEM concentrations.\n",
    "\n",
    "<img src=\"background-source-2-img.png\" \n",
    "\n",
    "Building upon these findings, our research seeks to delve deeper into the relationship between athletic participation and academic pursuits among UCSD students. Specifically, we aim to assess whether similar patterns exist within the STEM and non-STEM domains, considering the university's prominent emphasis on STEM disciplines. By examining the nuances of student-athlete involvement, we aim to contribute valuable insights into the dynamic interplay between extracurricular commitments and academic pathways, with a focus on the distinctions between STEM and non-STEM majors at UCSD. \n",
    "\n",
    " **Use inline citation through HTML footnotes to specify which references support which statements** \n",
    "\n",
    "For example: After government genocide in the 20th century, real birds were replaced with surveillance drones designed to look just like birds.<a name=\"cite_ref-1\"></a>[<sup>1</sup>](#cite_note-1) Use a minimum of 2 or 3 citations, but we prefer more.<a name=\"cite_ref-2\"></a>[<sup>2</sup>](#cite_note-2) You need enough to fully explain and back up important facts. \n",
    "\n",
    "Note that if you click a footnote number in the paragraph above it will transport you to the proper entry in the footnotes list below.  And if you click the ^ in the footnote entry, it will return you to the place in the main text where the footnote is made.\n",
    "\n",
    "To understand the HTML here, `<a name=\"#...\"> </a>` is a tag that allows you produce a named reference for a given location.  Markdown has the construction `[text with hyperlink](#named reference)` that will produce a clickable link that transports you the named reference.\n",
    "\n",
    "1. <a name=\"cite_note-1\"></a> [^](#cite_ref-1) Foster, S. J. L., & Huml, M. R. (2017). The Relationship Between Athletic Identity and Academic Major Chosen by Student-Athletes. International journal of exercise science, 10(6), 915–925. https://www.ncbi.nlm.nih.gov/pmc/articles/PMC5685074/ \n",
    "2. <a name=\"cite_note-2\"></a> [^](#cite_ref-2) Taylor, M. (2022, April 12). Why do athletes choose Social Sciences over STEM? We looked at the numbers. The Princetonian. https://www.dailyprincetonian.com/article/2022/04/princeton-student-athletes-stem-majors-social-sciences  \n"
   ]
  },
  {
   "cell_type": "markdown",
   "metadata": {},
   "source": [
    "# Hypothesis\n"
   ]
  },
  {
   "cell_type": "markdown",
   "metadata": {},
   "source": [
    "\n",
    "- Include your team's hypothesis\n",
    "- Ensure that this hypothesis is clear to readers\n",
    "- Explain why you think this will be the outcome (what was your thinking?)\n",
    "\n",
    "What is your main hypothesis/predictions about what the answer to your question is? Briefly explain your thinking. (2-3 sentences)"
   ]
  },
  {
   "cell_type": "markdown",
   "metadata": {},
   "source": [
    "# Data"
   ]
  },
  {
   "cell_type": "markdown",
   "metadata": {},
   "source": [
    "1. Explain what the **ideal** dataset you would want to answer this question. (This should include: What variables? How many observations? Who/what/how would these data be collected? How would these data be stored/organized?)\n",
    "1. Search for potential **real** datasets that could provide you with something useful for this project.  You do not have to find every piece of data you will use, but you do need to have demonstrated some idea that (a) this data is gettable and (b) that this data may be different from what your ideal is."
   ]
  },
  {
   "cell_type": "markdown",
   "metadata": {},
   "source": [
    "# Ethics & Privacy"
   ]
  },
  {
   "cell_type": "markdown",
   "metadata": {},
   "source": [
    "- Thoughtful discussion of ethical concerns included\n",
    "- Ethical concerns consider the whole data science process (question asked, data collected, data being used, the bias in data, analysis, post-analysis, etc.)\n",
    "- How your group handled bias/ethical concerns clearly described\n",
    "\n",
    "Acknowledge and address any ethics & privacy related issues of your question(s), proposed dataset(s), and/or analyses. Use the information provided in lecture to guide your group discussion and thinking. If you need further guidance, check out [Deon's Ethics Checklist](http://deon.drivendata.org/#data-science-ethics-checklist). In particular:\n",
    "\n",
    "- Are there any biases/privacy/terms of use issues with the data you propsed?\n",
    "- Are there potential biases in your dataset(s), in terms of who it composes, and how it was collected, that may be problematic in terms of it allowing for equitable analysis? (For example, does your data exclude particular populations, or is it likely to reflect particular human biases in a way that could be a problem?)\n",
    "- How will you set out to detect these specific biases before, during, and after/when communicating your analysis?\n",
    "- Are there any other issues related to your topic area, data, and/or analyses that are potentially problematic in terms of data privacy and equitable impact?\n",
    "- How will you handle issues you identified?"
   ]
  },
  {
   "cell_type": "markdown",
   "metadata": {},
   "source": [
    "# Team Expectations "
   ]
  },
  {
   "cell_type": "markdown",
   "metadata": {},
   "source": [
    "\n",
    "Read over the [COGS108 Team Policies](https://github.com/COGS108/Projects/blob/master/COGS108_TeamPolicies.md) individually. Then, include your group’s expectations of one another for successful completion of your COGS108 project below. Discuss and agree on what all of your expectations are. Discuss how your team will communicate throughout the quarter and consider how you will communicate respectfully should conflicts arise. By including each member’s name above and by adding their name to the submission, you are indicating that you have read the COGS108 Team Policies, accept your team’s expectations below, and have every intention to fulfill them. These expectations are for your team’s use and benefit — they won’t be graded for their details.\n",
    "\n",
    "* Meet weekly on Zoom (usually on weekends)\n",
    "* Meet up in person every other week\n",
    "* Communicate throughout the week in our group chat to give project updates\n",
    "* Respond to each other's messages within 24 hours"
   ]
  },
  {
   "cell_type": "markdown",
   "metadata": {},
   "source": [
    "# Project Timeline Proposal"
   ]
  },
  {
   "cell_type": "markdown",
   "metadata": {},
   "source": [
    "Specify your team's specific project timeline. An example timeline has been provided. Changes the dates, times, names, and details to fit your group's plan.\n",
    "\n",
    "If you think you will need any special resources or training outside what we have covered in COGS 108 to solve your problem, then your proposal should state these clearly. For example, if you have selected a problem that involves implementing multiple neural networks, please state this so we can make sure you know what you’re doing and so we can point you to resources you will need to implement your project. Note that you are not required to use outside methods.\n",
    "\n",
    "\n",
    "\n",
    "| Meeting Date  | Meeting Time| Completed Before Meeting  | Discuss at Meeting |\n",
    "|---|---|---|---|\n",
    "| 2/7  |  3 PM | Brainstorm research topics and ideas for a research question  | Pick a research topic and question | \n",
    "| 2/10  |  4 PM |  Do background research on topic; write background, data, and ethics and privacy sections  | Write research question and hypothesis sections and finalize the rest of our project proposal | \n",
    "| 2/20  | 2 PM  | Research relevant data sets  | Finalize project data sets; wrangle data sets into a tidy format   |\n",
    "| 2/24  | 4 PM  | Write data checkpoint #1 sections | Review/edit checkpoint #1 sections; make sure data is tidy   |\n",
    "| 2/29  | 2 PM  | Review data | Conduct EDA |\n",
    "| 3/9  | 4 PM  | Write data checkpoint #2 sections| Review/edit checkpoint #2 sections; go over EDA to make sure we're all on the same page |\n",
    "| 3/14  | 2 PM  | Work on final video logistics - how to present and designating roles | Film final video |\n",
    "| 3/19  | Before 11:59 PM  | Review entire project; make final edits | Turn in final report and final video |"
   ]
  },
  {
   "cell_type": "markdown",
   "metadata": {},
   "source": []
  }
 ],
 "metadata": {
  "kernelspec": {
   "display_name": "Python 3 (ipykernel)",
   "language": "python",
   "name": "python3"
  },
  "language_info": {
   "codemirror_mode": {
    "name": "ipython",
    "version": 3
   },
   "file_extension": ".py",
   "mimetype": "text/x-python",
   "name": "python",
   "nbconvert_exporter": "python",
   "pygments_lexer": "ipython3",
   "version": "3.9.7"
  }
 },
 "nbformat": 4,
 "nbformat_minor": 2
}
