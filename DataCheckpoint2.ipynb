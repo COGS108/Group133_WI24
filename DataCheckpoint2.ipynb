{
 "cells": [
  {
   "cell_type": "markdown",
   "metadata": {},
   "source": [
    "**If you lost points on the last checkpoint you can get them back by responding to TA/IA feedback**  \n",
    "\n",
    "Update/change the relevant sections where you lost those points, make sure you respond on GitHub Issues to your TA/IA to call their attention to the changes you made here.\n",
    "\n",
    "Please update your Timeline... no battle plan survives contact with the enemy, so make sure we understand how your plans have changed."
   ]
  },
  {
   "cell_type": "markdown",
   "metadata": {},
   "source": [
    "# COGS 108 - Data Checkpoint"
   ]
  },
  {
   "cell_type": "markdown",
   "metadata": {},
   "source": [
    "# Names\n",
    "\n",
    "- Thadius Freebourn\n",
    "- Yijun Luo\n",
    "- Eve Nguyen\n",
    "- Kiko Pan\n",
    "- Qingtong Zou"
   ]
  },
  {
   "cell_type": "markdown",
   "metadata": {},
   "source": [
    "# Research Question"
   ]
  },
  {
   "cell_type": "markdown",
   "metadata": {},
   "source": [
    "What is the relationship between performance of student-athletes at UCSD as well as their academic interests (STEM vs non-STEM) and physical measurements (height/weight)? How do these relationships vary across genders? "
   ]
  },
  {
   "cell_type": "markdown",
   "metadata": {},
   "source": [
    "## Background and Prior Work"
   ]
  },
  {
   "cell_type": "markdown",
   "metadata": {},
   "source": [
    "Participating in extracurricular activities while balancing school can be challenging. Student-athletes generally have a busier schedule than most students. They have to juggle and coordinate their training schedules, assignment deadlines, class attendance, and more. We recognize that the academic workload on STEM majors is generally more extensive than non-STEM majors. Given this, we wanted to explore whether or not academic pursuits correlate with athletic performance. Specifically, we aim to investigate if there are differences in performance between STEM and non-STEM majors at UCSD given its heavy STEM influence.\n",
    "\n",
    "In a study that investigates the relationship between athletic identity and the selection of academic majors among college student-athletes, they found that students who care more about sports generally choose a major with decreased academic rigor. Based on the findings from this study, we can assume that there is likely a positive correlation between athletic performance and non-STEM majors at UCSD. This correlation suggests that high-performing student-athletes might lean towards majors that offer more flexibility and less academic pressure. This allows them to manage their training and game schedules more effectively. Students who prioritize their sports success are more likely to choose a major that aligns and simply helps them meet the academic requirements. This assumption should be consistent across all genders.<a name=\"cite_ref-1\"></a>[<sup>1</sup>](#cite_note-1)\n",
    "\n",
    "In addition, we wanted to study how athletes' physical measurements such as their height and weight affect their performance. In further research, we looked into gender differences in terms of physical variances. Men are generally considered more powerful and have more strength compared to women because they have larger muscle mass and lower body fat. Also, men are taller and have longer limbs compared to women. With all this considered, men have a physical advantage in sports where strength and height are used. Despite efforts to promote gender equality in sports, these biological differences continue to shape athletic outcomes. Given that men generally have greater physical strength, height, and muscle mass compared to women, it is reasonable to assume that these differences may influence athletic performance outcomes, especially in sports that heavily rely on strength and height.<a name=\"cite_ref-2\"></a>[<sup>2</sup>](#cite_note-2)\n",
    "\n",
    "Expanding on prior research, our study intends to explore multifaceted connections between athletic performance, physical attributes (height/weight), and academic preferences among those participating in basketball, soccer, volleyball, and water polo. We aim to investigate how these variables interrelate with performance rates across genders at UCSD. By analyzing these relationships, we aim to identify which factors most strongly correlate with higher athletic performance among male and female student-athletes at UCSD.\n",
    "\n",
    "1. <a name=\"cite_note-1\"></a> [^](#cite_ref-1) Foster, S. J. L., & Huml, M. R. (2017). The Relationship Between Athletic Identity and Academic Major Chosen by Student-Athletes. International journal of exercise science, 10(6), 915–925. https://www.ncbi.nlm.nih.gov/pmc/articles/PMC5685074/ \n",
    "2. <a name=\"cite_note-2\"></a> [^](#cite_ref-2) Vealey, R. & Chase, M. (2016). Best Practice for Youth Sport. https://us.humankinetics.com/blogs/excerpt/reasons-for-gender-differences-in-youth-sport \n"
   ]
  },
  {
   "cell_type": "markdown",
   "metadata": {},
   "source": [
    "# Hypothesis\n"
   ]
  },
  {
   "cell_type": "markdown",
   "metadata": {},
   "source": [
    "Our team hypothesizes that at UCSD, student-athletes from non-STEM fields and those with advantageous physical measurements (notably greater height and weight) tend to show enhanced sports performance, irrespective of gender. This pattern is anticipated due to the lower academic workload associated with non-STEM disciplines, allowing for more intensive training, and the natural advantage provided by superior physical attributes in athletic activities. We expect these relationships to be consistent across both male and female athletes, suggesting that the impact of academic interests and physical measurements on sports performance does not vary significantly by gender."
   ]
  },
  {
   "cell_type": "markdown",
   "metadata": {},
   "source": [
    "Setup"
   ]
  },
  {
   "cell_type": "code",
   "execution_count": 5,
   "metadata": {},
   "outputs": [
    {
     "name": "stdout",
     "output_type": "stream",
     "text": [
      "Defaulting to user installation because normal site-packages is not writeable\n",
      "Collecting pandas\n",
      "  Downloading pandas-2.2.1-cp39-cp39-macosx_11_0_arm64.whl (11.3 MB)\n",
      "\u001b[K     |████████████████████████████████| 11.3 MB 1.9 MB/s eta 0:00:01\n",
      "\u001b[?25hCollecting pytz>=2020.1\n",
      "  Downloading pytz-2024.1-py2.py3-none-any.whl (505 kB)\n",
      "\u001b[K     |████████████████████████████████| 505 kB 549 kB/s eta 0:00:01\n",
      "\u001b[?25hCollecting tzdata>=2022.7\n",
      "  Downloading tzdata-2024.1-py2.py3-none-any.whl (345 kB)\n",
      "\u001b[K     |████████████████████████████████| 345 kB 12.9 MB/s eta 0:00:01\n",
      "\u001b[?25hCollecting numpy<2,>=1.22.4\n",
      "  Downloading numpy-1.26.4-cp39-cp39-macosx_11_0_arm64.whl (14.0 MB)\n",
      "\u001b[K     |████████████████████████████████| 14.0 MB 756 kB/s eta 0:00:01\n",
      "\u001b[?25hRequirement already satisfied: python-dateutil>=2.8.2 in /Users/qingtongzou/Library/Python/3.9/lib/python/site-packages (from pandas) (2.8.2)\n",
      "Requirement already satisfied: six>=1.5 in /Applications/Xcode.app/Contents/Developer/Library/Frameworks/Python3.framework/Versions/3.9/lib/python3.9/site-packages (from python-dateutil>=2.8.2->pandas) (1.15.0)\n",
      "Installing collected packages: tzdata, pytz, numpy, pandas\n",
      "Successfully installed numpy-1.26.4 pandas-2.2.1 pytz-2024.1 tzdata-2024.1\n",
      "\u001b[33mWARNING: You are using pip version 21.2.4; however, version 24.0 is available.\n",
      "You should consider upgrading via the '/Applications/Xcode.app/Contents/Developer/usr/bin/python3 -m pip install --upgrade pip' command.\u001b[0m\n",
      "Note: you may need to restart the kernel to use updated packages.\n"
     ]
    }
   ],
   "source": [
    "pip install pandas"
   ]
  },
  {
   "cell_type": "code",
   "execution_count": 6,
   "metadata": {},
   "outputs": [
    {
     "name": "stdout",
     "output_type": "stream",
     "text": [
      "Defaulting to user installation because normal site-packages is not writeable\n",
      "Requirement already satisfied: numpy in /Users/qingtongzou/Library/Python/3.9/lib/python/site-packages (1.26.4)\n",
      "\u001b[33mWARNING: You are using pip version 21.2.4; however, version 24.0 is available.\n",
      "You should consider upgrading via the '/Applications/Xcode.app/Contents/Developer/usr/bin/python3 -m pip install --upgrade pip' command.\u001b[0m\n",
      "Note: you may need to restart the kernel to use updated packages.\n"
     ]
    }
   ],
   "source": [
    "pip install numpy"
   ]
  },
  {
   "cell_type": "code",
   "execution_count": 34,
   "metadata": {},
   "outputs": [
    {
     "name": "stdout",
     "output_type": "stream",
     "text": [
      "Defaulting to user installation because normal site-packages is not writeable\n",
      "Collecting openpyxl\n",
      "  Downloading openpyxl-3.1.2-py2.py3-none-any.whl (249 kB)\n",
      "\u001b[K     |████████████████████████████████| 249 kB 3.1 MB/s eta 0:00:01\n",
      "\u001b[?25hCollecting et-xmlfile\n",
      "  Downloading et_xmlfile-1.1.0-py3-none-any.whl (4.7 kB)\n",
      "Installing collected packages: et-xmlfile, openpyxl\n",
      "Successfully installed et-xmlfile-1.1.0 openpyxl-3.1.2\n",
      "\u001b[33mWARNING: You are using pip version 21.2.4; however, version 24.0 is available.\n",
      "You should consider upgrading via the '/Applications/Xcode.app/Contents/Developer/usr/bin/python3 -m pip install --upgrade pip' command.\u001b[0m\n",
      "Note: you may need to restart the kernel to use updated packages.\n"
     ]
    }
   ],
   "source": [
    "pip install openpyxl"
   ]
  },
  {
   "cell_type": "code",
   "execution_count": 7,
   "metadata": {},
   "outputs": [],
   "source": [
    "import pandas as pd\n",
    "import numpy as np"
   ]
  },
  {
   "cell_type": "markdown",
   "metadata": {},
   "source": [
    "# Data"
   ]
  },
  {
   "cell_type": "markdown",
   "metadata": {},
   "source": [
    "## Data overview\n",
    "\n",
    "For each dataset include the following information\n",
    "- Dataset #1\n",
    "  - Dataset Name:\n",
    "  - Link to the dataset:\n",
    "  - Number of observations:\n",
    "  - Number of variables:\n",
    "- Dataset #2 (if you have more than one!)\n",
    "  - Dataset Name:\n",
    "  - Link to the dataset:\n",
    "  - Number of observations:\n",
    "  - Number of variables:\n",
    "- etc\n",
    "\n",
    "Now write 2 - 5 sentences describing each dataset here. Include a short description of the important variables in the dataset; what the metrics and datatypes are, what concepts they may be proxies for. Include information about how you would need to wrangle/clean/preprocess the dataset\n",
    "\n",
    "If you plan to use multiple datasets, add a few sentences about how you plan to combine these datasets."
   ]
  },
  {
   "cell_type": "markdown",
   "metadata": {},
   "source": [
    "## Dataset #1 (use name instead of number here)"
   ]
  },
  {
   "cell_type": "code",
   "execution_count": 14,
   "metadata": {},
   "outputs": [],
   "source": [
    "## YOUR CODE TO LOAD/CLEAN/TIDY/WRANGLE THE DATA GOES HERE\n",
    "## FEEL FREE TO ADD MULTIPLE CELLS PER SECTION \n",
    "male_basketball_bio = pd.read_csv('data/athlete_bio/male_basketball_rosters.csv')\n",
    "male_soccer_bio = pd.read_csv('data/athlete_bio/male_soccer_rosters.csv')\n",
    "male_volleyball_bio = pd.read_csv('data/athlete_bio/male_volleyball_rosters.csv')\n",
    "male_waterpolo_bio = pd.read_csv('data/athlete_bio/male_waterpolo_rosters.csv')\n",
    "female_basketball_bio = pd.read_csv('data/athlete_bio/female_basketball_rosters.csv')\n",
    "female_soccer_bio = pd.read_csv('data/athlete_bio/female_soccer_rosters.csv')\n",
    "female_volleyball_bio = pd.read_csv('data/athlete_bio/female_volleyball_rosters.csv')\n",
    "female_waterpolo_bio = pd.read_csv('data/athlete_bio/female_waterpolo_rosters.csv')\n"
   ]
  },
  {
   "cell_type": "code",
   "execution_count": 18,
   "metadata": {},
   "outputs": [
    {
     "data": {
      "text/html": [
       "<div>\n",
       "<style scoped>\n",
       "    .dataframe tbody tr th:only-of-type {\n",
       "        vertical-align: middle;\n",
       "    }\n",
       "\n",
       "    .dataframe tbody tr th {\n",
       "        vertical-align: top;\n",
       "    }\n",
       "\n",
       "    .dataframe thead th {\n",
       "        text-align: right;\n",
       "    }\n",
       "</style>\n",
       "<table border=\"1\" class=\"dataframe\">\n",
       "  <thead>\n",
       "    <tr style=\"text-align: right;\">\n",
       "      <th></th>\n",
       "      <th>Year</th>\n",
       "      <th>JerseyNum</th>\n",
       "      <th>Name</th>\n",
       "      <th>Position</th>\n",
       "      <th>Height</th>\n",
       "      <th>Weight</th>\n",
       "      <th>Major</th>\n",
       "      <th>Class</th>\n",
       "      <th>HomeTownHighSchool</th>\n",
       "    </tr>\n",
       "  </thead>\n",
       "  <tbody>\n",
       "    <tr>\n",
       "      <th>0</th>\n",
       "      <td>2005</td>\n",
       "      <td>1</td>\n",
       "      <td>McElroy Colin</td>\n",
       "      <td>GK</td>\n",
       "      <td>6-5</td>\n",
       "      <td>NaN</td>\n",
       "      <td>NaN</td>\n",
       "      <td>Sr.</td>\n",
       "      <td>Solana Beach, CA / Torrey Pines HS</td>\n",
       "    </tr>\n",
       "    <tr>\n",
       "      <th>1</th>\n",
       "      <td>2005</td>\n",
       "      <td>1</td>\n",
       "      <td>Bryan Corbett</td>\n",
       "      <td>GK</td>\n",
       "      <td>6-2</td>\n",
       "      <td>NaN</td>\n",
       "      <td>NaN</td>\n",
       "      <td>Sr.</td>\n",
       "      <td>Carmichael, CA / Rio Americano HS</td>\n",
       "    </tr>\n",
       "    <tr>\n",
       "      <th>2</th>\n",
       "      <td>2005</td>\n",
       "      <td>1</td>\n",
       "      <td>David Miller</td>\n",
       "      <td>GK</td>\n",
       "      <td>6-0</td>\n",
       "      <td>NaN</td>\n",
       "      <td>NaN</td>\n",
       "      <td>Sr.</td>\n",
       "      <td>Ventura, CA / Ventura HS</td>\n",
       "    </tr>\n",
       "    <tr>\n",
       "      <th>3</th>\n",
       "      <td>2005</td>\n",
       "      <td>1</td>\n",
       "      <td>Jeremy Randall</td>\n",
       "      <td>GK</td>\n",
       "      <td>6-3</td>\n",
       "      <td>NaN</td>\n",
       "      <td>NaN</td>\n",
       "      <td>Jr.</td>\n",
       "      <td>Lake Forest, CA / El Toro HS</td>\n",
       "    </tr>\n",
       "    <tr>\n",
       "      <th>4</th>\n",
       "      <td>2005</td>\n",
       "      <td>2</td>\n",
       "      <td>Chris Finegold</td>\n",
       "      <td>2M</td>\n",
       "      <td>6-6</td>\n",
       "      <td>NaN</td>\n",
       "      <td>NaN</td>\n",
       "      <td>Sr.</td>\n",
       "      <td>Palo Alto, CA / Palo Alto HS</td>\n",
       "    </tr>\n",
       "  </tbody>\n",
       "</table>\n",
       "</div>"
      ],
      "text/plain": [
       "   Year JerseyNum            Name Position Height  Weight Major Class  \\\n",
       "0  2005         1   McElroy Colin       GK    6-5     NaN   NaN   Sr.   \n",
       "1  2005         1   Bryan Corbett       GK    6-2     NaN   NaN   Sr.   \n",
       "2  2005         1    David Miller       GK    6-0     NaN   NaN   Sr.   \n",
       "3  2005         1  Jeremy Randall       GK    6-3     NaN   NaN   Jr.   \n",
       "4  2005         2  Chris Finegold       2M    6-6     NaN   NaN   Sr.   \n",
       "\n",
       "                   HomeTownHighSchool  \n",
       "0  Solana Beach, CA / Torrey Pines HS  \n",
       "1   Carmichael, CA / Rio Americano HS  \n",
       "2            Ventura, CA / Ventura HS  \n",
       "3        Lake Forest, CA / El Toro HS  \n",
       "4        Palo Alto, CA / Palo Alto HS  "
      ]
     },
     "execution_count": 18,
     "metadata": {},
     "output_type": "execute_result"
    }
   ],
   "source": [
    "male_basketball_bio.head()\n",
    "female_basketball_bio.head()"
   ]
  },
  {
   "cell_type": "code",
   "execution_count": 23,
   "metadata": {},
   "outputs": [],
   "source": [
    "male_basketball_bio['Sport'] = 'Basketball'\n",
    "male_soccer_bio['Sport'] = 'Soccer'\n",
    "male_volleyball_bio['Sport'] = 'Volleyball'\n",
    "male_waterpolo_bio['Sport'] = 'Water Polo'\n",
    "female_basketball_bio['Sport'] = 'Basketball'\n",
    "female_soccer_bio['Sport'] = 'Soccer'\n",
    "female_volleyball_bio['Sport'] = 'Volleyball'\n",
    "female_waterpolo_bio['Sport'] = 'Water Polo'"
   ]
  },
  {
   "cell_type": "markdown",
   "metadata": {},
   "source": [
    "Put all datasets of male athelets bio into one"
   ]
  },
  {
   "cell_type": "code",
   "execution_count": 268,
   "metadata": {},
   "outputs": [
    {
     "data": {
      "text/plain": [
       "190.3583180987203"
      ]
     },
     "execution_count": 268,
     "metadata": {},
     "output_type": "execute_result"
    }
   ],
   "source": [
    "male_athelet_df = pd.concat([male_basketball_bio, male_soccer_bio, male_volleyball_bio, male_waterpolo_bio], axis=0)\n",
    "male_athelet_df.shape[0]\n",
    "male_basketball_bio.shape[0] + male_soccer_bio.shape[0] + male_volleyball_bio.shape[0] + male_waterpolo_bio.shape[0]\n",
    "male_athelet_df['Sport'].unique()"
   ]
  },
  {
   "cell_type": "markdown",
   "metadata": {},
   "source": [
    "Clean male athlete data by replacing null values in Weight to the mean of weight and drop athletes with null Major"
   ]
  },
  {
   "cell_type": "code",
   "execution_count": 274,
   "metadata": {},
   "outputs": [
    {
     "data": {
      "text/plain": [
       "638"
      ]
     },
     "execution_count": 274,
     "metadata": {},
     "output_type": "execute_result"
    }
   ],
   "source": [
    "mean_weight = male_athelet_df['Weight'].mean()\n",
    "male_athelet_df['Weight'] = male_athelet_df['Weight'].fillna(mean_weight)\n",
    "male_athelet_df = male_athelet_df.dropna(subset=['Major'])\n",
    "male_athelet_df.shape[0]"
   ]
  },
  {
   "cell_type": "markdown",
   "metadata": {},
   "source": [
    "Put all datasets of female atheletes bio into one"
   ]
  },
  {
   "cell_type": "code",
   "execution_count": 30,
   "metadata": {},
   "outputs": [
    {
     "data": {
      "text/plain": [
       "array(['Basketball', 'Soccer', 'Volleyball', 'Water Polo'], dtype=object)"
      ]
     },
     "execution_count": 30,
     "metadata": {},
     "output_type": "execute_result"
    }
   ],
   "source": [
    "female_athelet_df = pd.concat([female_basketball_bio, female_soccer_bio, female_volleyball_bio, female_waterpolo_bio], axis=0)\n",
    "female_athelet_df.shape[0]\n",
    "female_basketball_bio.shape[0] + female_soccer_bio.shape[0] + female_volleyball_bio.shape[0] + female_waterpolo_bio.shape[0]\n",
    "female_athelet_df['Sport'].unique()"
   ]
  },
  {
   "cell_type": "markdown",
   "metadata": {},
   "source": [
    "Clean female athlete data by replacing null values in Weight to the mean of weight and drop athletes with null Major"
   ]
  },
  {
   "cell_type": "code",
   "execution_count": 276,
   "metadata": {},
   "outputs": [
    {
     "data": {
      "text/plain": [
       "636"
      ]
     },
     "execution_count": 276,
     "metadata": {},
     "output_type": "execute_result"
    }
   ],
   "source": [
    "mean_weight = female_athelet_df['Weight'].mean()\n",
    "female_athelet_df['Weight'] = female_athelet_df['Weight'].fillna(mean_weight)\n",
    "female_athelet_df = female_athelet_df.dropna(subset=['Major'])\n",
    "female_athelet_df.shape[0]"
   ]
  },
  {
   "cell_type": "code",
   "execution_count": 394,
   "metadata": {},
   "outputs": [
    {
     "data": {
      "text/plain": [
       "0"
      ]
     },
     "execution_count": 394,
     "metadata": {},
     "output_type": "execute_result"
    }
   ],
   "source": [
    "female_athelet_df[\"Height\"].isna().sum()\n",
    "#male_athelet_df[\"Height\"].isna().sum()"
   ]
  },
  {
   "cell_type": "markdown",
   "metadata": {},
   "source": [
    "## Dataset #2 (if you have more than one, use name instead of number here)"
   ]
  },
  {
   "cell_type": "markdown",
   "metadata": {},
   "source": [
    "Put all data with male basketball performance into one. Add 'Sport' and 'Year' columns."
   ]
  },
  {
   "cell_type": "code",
   "execution_count": 37,
   "metadata": {},
   "outputs": [
    {
     "data": {
      "text/html": [
       "<div>\n",
       "<style scoped>\n",
       "    .dataframe tbody tr th:only-of-type {\n",
       "        vertical-align: middle;\n",
       "    }\n",
       "\n",
       "    .dataframe tbody tr th {\n",
       "        vertical-align: top;\n",
       "    }\n",
       "\n",
       "    .dataframe thead th {\n",
       "        text-align: right;\n",
       "    }\n",
       "</style>\n",
       "<table border=\"1\" class=\"dataframe\">\n",
       "  <thead>\n",
       "    <tr style=\"text-align: right;\">\n",
       "      <th></th>\n",
       "      <th>Overall Record: 19-9   Conf: 13-3   Home: 13-1   Away: 6-7   Neutral: 0-1</th>\n",
       "      <th>Unnamed: 1</th>\n",
       "      <th>Unnamed: 2</th>\n",
       "      <th>Unnamed: 3</th>\n",
       "      <th>Unnamed: 4</th>\n",
       "      <th>Unnamed: 5</th>\n",
       "      <th>Unnamed: 6</th>\n",
       "      <th>Unnamed: 7</th>\n",
       "      <th>Unnamed: 8</th>\n",
       "      <th>Unnamed: 9</th>\n",
       "      <th>...</th>\n",
       "      <th>Unnamed: 19</th>\n",
       "      <th>Unnamed: 20</th>\n",
       "      <th>Unnamed: 21</th>\n",
       "      <th>Unnamed: 22</th>\n",
       "      <th>Unnamed: 23</th>\n",
       "      <th>Unnamed: 24</th>\n",
       "      <th>Unnamed: 25</th>\n",
       "      <th>Unnamed: 26</th>\n",
       "      <th>Unnamed: 27</th>\n",
       "      <th>Unnamed: 28</th>\n",
       "    </tr>\n",
       "  </thead>\n",
       "  <tbody>\n",
       "    <tr>\n",
       "      <th>0</th>\n",
       "      <td>#</td>\n",
       "      <td>Player</td>\n",
       "      <td>NaN</td>\n",
       "      <td>GP-GS</td>\n",
       "      <td>MIN</td>\n",
       "      <td>NaN</td>\n",
       "      <td>AVG</td>\n",
       "      <td>NaN</td>\n",
       "      <td>FG FG-FGA</td>\n",
       "      <td>NaN</td>\n",
       "      <td>...</td>\n",
       "      <td>NaN</td>\n",
       "      <td>AVG</td>\n",
       "      <td>PF</td>\n",
       "      <td>DQ</td>\n",
       "      <td>A</td>\n",
       "      <td>TO</td>\n",
       "      <td>BLK</td>\n",
       "      <td>STL</td>\n",
       "      <td>PTS</td>\n",
       "      <td>AVG</td>\n",
       "    </tr>\n",
       "    <tr>\n",
       "      <th>1</th>\n",
       "      <td>4</td>\n",
       "      <td>Pope, Bryce</td>\n",
       "      <td>NaN</td>\n",
       "      <td>28-28</td>\n",
       "      <td>991</td>\n",
       "      <td>NaN</td>\n",
       "      <td>35.4</td>\n",
       "      <td>NaN</td>\n",
       "      <td>181-431</td>\n",
       "      <td>NaN</td>\n",
       "      <td>...</td>\n",
       "      <td>111</td>\n",
       "      <td>4</td>\n",
       "      <td>29</td>\n",
       "      <td>0</td>\n",
       "      <td>48</td>\n",
       "      <td>34</td>\n",
       "      <td>4</td>\n",
       "      <td>27</td>\n",
       "      <td>508</td>\n",
       "      <td>18.1</td>\n",
       "    </tr>\n",
       "    <tr>\n",
       "      <th>2</th>\n",
       "      <td>13</td>\n",
       "      <td>McGhie, Tyler</td>\n",
       "      <td>NaN</td>\n",
       "      <td>18-0</td>\n",
       "      <td>507</td>\n",
       "      <td>NaN</td>\n",
       "      <td>28.2</td>\n",
       "      <td>NaN</td>\n",
       "      <td>92-206</td>\n",
       "      <td>NaN</td>\n",
       "      <td>...</td>\n",
       "      <td>48</td>\n",
       "      <td>2.7</td>\n",
       "      <td>21</td>\n",
       "      <td>1</td>\n",
       "      <td>23</td>\n",
       "      <td>6</td>\n",
       "      <td>2</td>\n",
       "      <td>10</td>\n",
       "      <td>251</td>\n",
       "      <td>13.9</td>\n",
       "    </tr>\n",
       "    <tr>\n",
       "      <th>3</th>\n",
       "      <td>12</td>\n",
       "      <td>Tait-Jones, Aniwaniwa</td>\n",
       "      <td>NaN</td>\n",
       "      <td>28-28</td>\n",
       "      <td>825</td>\n",
       "      <td>NaN</td>\n",
       "      <td>29.5</td>\n",
       "      <td>NaN</td>\n",
       "      <td>129-229</td>\n",
       "      <td>NaN</td>\n",
       "      <td>...</td>\n",
       "      <td>163</td>\n",
       "      <td>5.8</td>\n",
       "      <td>60</td>\n",
       "      <td>1</td>\n",
       "      <td>91</td>\n",
       "      <td>54</td>\n",
       "      <td>10</td>\n",
       "      <td>30</td>\n",
       "      <td>374</td>\n",
       "      <td>13.4</td>\n",
       "    </tr>\n",
       "    <tr>\n",
       "      <th>4</th>\n",
       "      <td>35</td>\n",
       "      <td>Nwaokorie, Francis</td>\n",
       "      <td>NaN</td>\n",
       "      <td>28-28</td>\n",
       "      <td>878</td>\n",
       "      <td>NaN</td>\n",
       "      <td>31.4</td>\n",
       "      <td>NaN</td>\n",
       "      <td>106-234</td>\n",
       "      <td>NaN</td>\n",
       "      <td>...</td>\n",
       "      <td>143</td>\n",
       "      <td>5.1</td>\n",
       "      <td>77</td>\n",
       "      <td>3</td>\n",
       "      <td>23</td>\n",
       "      <td>39</td>\n",
       "      <td>21</td>\n",
       "      <td>19</td>\n",
       "      <td>323</td>\n",
       "      <td>11.5</td>\n",
       "    </tr>\n",
       "  </tbody>\n",
       "</table>\n",
       "<p>5 rows × 29 columns</p>\n",
       "</div>"
      ],
      "text/plain": [
       "  Overall Record: 19-9   Conf: 13-3   Home: 13-1   Away: 6-7   Neutral: 0-1  \\\n",
       "0                                                  #                          \n",
       "1                                                  4                          \n",
       "2                                                 13                          \n",
       "3                                                 12                          \n",
       "4                                                 35                          \n",
       "\n",
       "              Unnamed: 1 Unnamed: 2 Unnamed: 3 Unnamed: 4 Unnamed: 5  \\\n",
       "0                 Player        NaN      GP-GS        MIN        NaN   \n",
       "1            Pope, Bryce        NaN      28-28        991        NaN   \n",
       "2          McGhie, Tyler        NaN       18-0        507        NaN   \n",
       "3  Tait-Jones, Aniwaniwa        NaN      28-28        825        NaN   \n",
       "4     Nwaokorie, Francis        NaN      28-28        878        NaN   \n",
       "\n",
       "  Unnamed: 6 Unnamed: 7 Unnamed: 8  Unnamed: 9  ... Unnamed: 19 Unnamed: 20  \\\n",
       "0        AVG        NaN  FG FG-FGA         NaN  ...         NaN         AVG   \n",
       "1       35.4        NaN    181-431         NaN  ...         111           4   \n",
       "2       28.2        NaN     92-206         NaN  ...          48         2.7   \n",
       "3       29.5        NaN    129-229         NaN  ...         163         5.8   \n",
       "4       31.4        NaN    106-234         NaN  ...         143         5.1   \n",
       "\n",
       "  Unnamed: 21 Unnamed: 22 Unnamed: 23 Unnamed: 24 Unnamed: 25 Unnamed: 26  \\\n",
       "0          PF          DQ           A          TO         BLK         STL   \n",
       "1          29           0          48          34           4          27   \n",
       "2          21           1          23           6           2          10   \n",
       "3          60           1          91          54          10          30   \n",
       "4          77           3          23          39          21          19   \n",
       "\n",
       "  Unnamed: 27 Unnamed: 28  \n",
       "0         PTS         AVG  \n",
       "1         508        18.1  \n",
       "2         251        13.9  \n",
       "3         374        13.4  \n",
       "4         323        11.5  \n",
       "\n",
       "[5 rows x 29 columns]"
      ]
     },
     "execution_count": 37,
     "metadata": {},
     "output_type": "execute_result"
    }
   ],
   "source": [
    "## YOUR CODE TO LOAD/CLEAN/TIDY/WRANGLE THE DATA GOES HERE\n",
    "## FEEL FREE TO ADD MULTIPLE CELLS PER SECTION \n",
    "male_basketball_performance_2023 = pd.read_excel(\"data/performance_data/excel/Men_s Basketball/2023 Men's Basketball.xlsx\")\n",
    "male_basketball_performance_2022 = pd.read_excel(\"data/performance_data/excel/Men_s Basketball/2022 Men's Basketball.xlsx\")\n",
    "male_basketball_performance_2021 = pd.read_excel(\"data/performance_data/excel/Men_s Basketball/2021 Men's Basketball.xlsx\")\n",
    "male_basketball_performance_2020 = pd.read_excel(\"data/performance_data/excel/Men_s Basketball/2020 Men's Basketball.xlsx\")\n",
    "male_basketball_performance_2019 = pd.read_excel(\"data/performance_data/excel/Men_s Basketball/2019 Men's Basketball.xlsx\")\n",
    "male_basketball_performance_2018 = pd.read_excel(\"data/performance_data/excel/Men_s Basketball/2018 Men's Basketball.xlsx\")\n",
    "male_basketball_performance_2017 = pd.read_excel(\"data/performance_data/excel/Men_s Basketball/2017 Men's Basketball.xlsx\")\n",
    "male_basketball_performance_2016 = pd.read_excel(\"data/performance_data/excel/Men_s Basketball/2016 Men's Basketball.xlsx\")\n"
   ]
  },
  {
   "cell_type": "code",
   "execution_count": 79,
   "metadata": {},
   "outputs": [
    {
     "data": {
      "text/plain": [
       "Overall Record: 27-6   Conf: 17-3   Home: 15-3   Away: 9-3   Neutral: 3-0                      #\n",
       "Unnamed: 1                                                                                Player\n",
       "Unnamed: 2                                                                                   NaN\n",
       "Unnamed: 3                                                                                 GP-GS\n",
       "Unnamed: 4                                                                                   NaN\n",
       "Unnamed: 5                                                                                   MIN\n",
       "Unnamed: 6                                                                                   NaN\n",
       "Unnamed: 7                                                                                   AVG\n",
       "Unnamed: 8                                                                                   NaN\n",
       "Unnamed: 9                                                                             FG FG-FGA\n",
       "Unnamed: 10                                                                                  NaN\n",
       "Unnamed: 11                                                                                  NaN\n",
       "Unnamed: 12                                                                                  NaT\n",
       "Unnamed: 13                                                                                  FG%\n",
       "Unnamed: 14                                                                         3PT\\n3FG-FGA\n",
       "Unnamed: 15                                                                                  NaN\n",
       "Unnamed: 16                                                                                  NaN\n",
       "Unnamed: 17                                                                                 3FG%\n",
       "Unnamed: 18                                                                            FT FT-FTA\n",
       "Unnamed: 19                                                                                  FT%\n",
       "Unnamed: 20                                                                                  OFF\n",
       "Unnamed: 21                                                                  Rebounds DEF    TOT\n",
       "Unnamed: 22                                                                                  NaN\n",
       "Unnamed: 23                                                                                  AVG\n",
       "Unnamed: 24                                                                                   PF\n",
       "Unnamed: 25                                                                                   DQ\n",
       "Unnamed: 26                                                                                    A\n",
       "Unnamed: 27                                                                                   TO\n",
       "Unnamed: 28                                                                                  BLK\n",
       "Unnamed: 29                                                                                  STL\n",
       "Unnamed: 30                                                                                  PTS\n",
       "Unnamed: 31                                                                                  AVG\n",
       "Sport                                                                                 Basketball\n",
       "Year                                                                                        2016\n",
       "Name: 0, dtype: object"
      ]
     },
     "execution_count": 79,
     "metadata": {},
     "output_type": "execute_result"
    }
   ],
   "source": [
    "male_basketball_performance_2016.columns\n",
    "male_basketball_performance_2016.iloc[0]"
   ]
  },
  {
   "cell_type": "code",
   "execution_count": 84,
   "metadata": {},
   "outputs": [
    {
     "data": {
      "text/plain": [
       "32"
      ]
     },
     "execution_count": 84,
     "metadata": {},
     "output_type": "execute_result"
    }
   ],
   "source": [
    "male_basketball_performance_201.shape[1]"
   ]
  },
  {
   "cell_type": "code",
   "execution_count": 333,
   "metadata": {},
   "outputs": [],
   "source": [
    "male_basketball_performance_2023['Sport'] = 'Basketball'\n",
    "male_basketball_performance_2022['Sport'] = 'Basketball'\n",
    "male_basketball_performance_2021['Sport'] = 'Basketball'\n",
    "male_basketball_performance_2020['Sport'] = 'Basketball'\n",
    "male_basketball_performance_2019['Sport'] = 'Basketball'\n",
    "male_basketball_performance_2018['Sport'] = 'Basketball'\n",
    "male_basketball_performance_2017['Sport'] = 'Basketball'\n",
    "male_basketball_performance_2016['Sport'] = 'Basketball'\n",
    "male_basketball_performance_2023['Year'] = 2023\n",
    "male_basketball_performance_2022['Year'] = 2022\n",
    "male_basketball_performance_2021['Year'] = 2021\n",
    "male_basketball_performance_2020['Year'] = 2020\n",
    "male_basketball_performance_2019['Year'] = 2019\n",
    "male_basketball_performance_2018['Year'] = 2018\n",
    "male_basketball_performance_2017['Year'] = 2017\n",
    "male_basketball_performance_2016['Year'] = 2016\n",
    "male_basketball_performance = pd.concat([male_basketball_performance_2023, male_basketball_performance_2022, male_basketball_performance_2021, male_basketball_performance_2020, male_basketball_performance_2019, male_basketball_performance_2018, male_basketball_performance_2017, male_basketball_performance_2016], axis=0)"
   ]
  },
  {
   "cell_type": "markdown",
   "metadata": {},
   "source": [
    "clean basketball performance data by deleting irrelevant rows and columns"
   ]
  },
  {
   "cell_type": "code",
   "execution_count": 334,
   "metadata": {},
   "outputs": [],
   "source": [
    "cols_with_nan_in_first_row = male_basketball_performance.iloc[0].isna()\n",
    "\n",
    "columns_to_drop = cols_with_nan_in_first_row[cols_with_nan_in_first_row].index.tolist()\n",
    "\n",
    "male_basketball_performance.drop(columns=columns_to_drop, inplace=True)\n",
    "\n",
    "male_basketball_performance.columns = male_basketball_performance.iloc[0]\n",
    "male_basketball_performance = male_basketball_performance.drop(male_basketball_performance.index[0])\n",
    "male_basketball_performance.rename(columns={'Basketball': 'Sport', 2023: 'Year'}, inplace=True)\n",
    "male_basketball_performance = male_basketball_performance.dropna(subset=['Player'])\n"
   ]
  },
  {
   "cell_type": "markdown",
   "metadata": {},
   "source": []
  },
  {
   "cell_type": "code",
   "execution_count": 335,
   "metadata": {},
   "outputs": [
    {
     "data": {
      "text/plain": [
       "0\n",
       "Player                 Pope, Bryce\n",
       "GP-GS                        28-28\n",
       "MIN                            991\n",
       "AVG                           35.4\n",
       "FG FG-FGA                  181-431\n",
       "FG%                           0.42\n",
       "3PT\\n3FG-FGA                61-189\n",
       "3FG%                         0.323\n",
       "FT FT-FTA                   85-101\n",
       "FT%                          0.842\n",
       "OFF                             21\n",
       "Rebounds DEF    TOT             90\n",
       "AVG                              4\n",
       "PF                              29\n",
       "DQ                               0\n",
       "A                               48\n",
       "TO                              34\n",
       "BLK                              4\n",
       "STL                             27\n",
       "PTS                            508\n",
       "AVG                           18.1\n",
       "Sport                   Basketball\n",
       "Year                          2023\n",
       "Name: 1, dtype: object"
      ]
     },
     "execution_count": 335,
     "metadata": {},
     "output_type": "execute_result"
    }
   ],
   "source": [
    "male_basketball_performance = male_basketball_performance.drop(columns=['#'])"
   ]
  },
  {
   "cell_type": "markdown",
   "metadata": {},
   "source": [
    "Put all data with male soccer performance into one. Add 'Sport' and 'Year' columns."
   ]
  },
  {
   "cell_type": "code",
   "execution_count": 385,
   "metadata": {},
   "outputs": [],
   "source": [
    "male_soccer_performance_2023 = pd.read_excel(\"data/performance_data/excel/Men_s Soccer/2023 Men's Soccer.xlsx\")\n",
    "male_soccer_performance_2022 = pd.read_excel(\"data/performance_data/excel/Men_s Soccer/2022 Men's Soccer.xlsx\")\n",
    "male_soccer_performance_2021 = pd.read_excel(\"data/performance_data/excel/Men_s Soccer/2021 Men's Soccer.xlsx\")\n",
    "male_soccer_performance_2019 = pd.read_excel(\"data/performance_data/excel/Men_s Soccer/2019 Men's Soccer.xlsx\")\n",
    "male_soccer_performance_2018 = pd.read_excel(\"data/performance_data/excel/Men_s Soccer/2018 Men's Soccer.xlsx\")\n",
    "male_soccer_performance_2017 = pd.read_excel(\"data/performance_data/excel/Men_s Soccer/2017 Men's Soccer.xlsx\")\n",
    "male_soccer_performance_2015 = pd.read_excel(\"data/performance_data/excel/Men_s Soccer/2015 Men's Soccer.xlsx\")\n",
    "male_soccer_performance_2013 = pd.read_excel(\"data/performance_data/excel/Men_s Soccer/2013 Men's Soccer.xlsx\")"
   ]
  },
  {
   "cell_type": "code",
   "execution_count": 386,
   "metadata": {},
   "outputs": [],
   "source": [
    "male_soccer_performance_2023['Sport'] = 'Soccer'\n",
    "male_soccer_performance_2022['Sport'] = 'Soccer'\n",
    "male_soccer_performance_2021['Sport'] = 'Soccer'\n",
    "male_soccer_performance_2019['Sport'] = 'Soccer'\n",
    "male_soccer_performance_2018['Sport'] = 'Soccer'\n",
    "male_soccer_performance_2017['Sport'] = 'Soccer'\n",
    "male_soccer_performance_2015['Sport'] = 'Soccer'\n",
    "male_soccer_performance_2013['Sport'] = 'Soccer'\n"
   ]
  },
  {
   "cell_type": "code",
   "execution_count": 387,
   "metadata": {},
   "outputs": [],
   "source": [
    "def cleanSoccer(df):\n",
    "    row_of_player, col_of_player = None, None\n",
    "\n",
    "# Iterate over the DataFrame to find 'Player'\n",
    "    for row_idx, row in df.iterrows():\n",
    "        for col_idx, value in enumerate(row):\n",
    "            if isinstance(value, str) and 'Player' in value:\n",
    "                row_of_player, col_of_player = row_idx, col_idx\n",
    "                break  # Stop the loop once 'Player' is found\n",
    "        if row_of_player is not None:\n",
    "            break  # Exit the outer loop if 'Player' has been found\n",
    "\n",
    "    if row_of_player is not None and col_of_player is not None:\n",
    "    # Get the column names starting from 'Player' up to the next 11 columns\n",
    "        columns = df.columns[col_of_player:]\n",
    "    \n",
    "    # Select these columns for the entire DataFrame\n",
    "        df = df.iloc[row_of_player:]\n",
    "        df = df.loc[:, columns]\n",
    "\n",
    "    cols_with_nan_in_first_row = df.iloc[0].isna()\n",
    "\n",
    "    columns_to_drop = cols_with_nan_in_first_row[cols_with_nan_in_first_row].index.tolist()\n",
    "\n",
    "    df.drop(columns=columns_to_drop, inplace=True)\n",
    "\n",
    "    df.columns = df.iloc[0]\n",
    "    df = df.drop(df.index[0])\n",
    "\n",
    "    df = df.dropna()\n",
    "\n",
    "    return df"
   ]
  },
  {
   "cell_type": "code",
   "execution_count": 388,
   "metadata": {},
   "outputs": [],
   "source": [
    "male_soccer_performance_list = np.array([])\n",
    "male_soccer_list = [male_soccer_performance_2023, male_soccer_performance_2022, male_soccer_performance_2021,male_soccer_performance_2019,male_soccer_performance_2018,male_soccer_performance_2017,male_soccer_performance_2015,male_soccer_performance_2013]\n",
    "for df in male_soccer_list:\n",
    "    \n",
    "    male_soccer_performance_list = np.append(male_soccer_performance_list, cleanSoccer(df))"
   ]
  },
  {
   "cell_type": "code",
   "execution_count": 392,
   "metadata": {},
   "outputs": [
    {
     "data": {
      "text/plain": [
       "array(['Iribarren, Inaki', 18, 11, ..., 0, '0-0', 'Soccer'], dtype=object)"
      ]
     },
     "execution_count": 392,
     "metadata": {},
     "output_type": "execute_result"
    }
   ],
   "source": [
    "male_soccer_performance_list"
   ]
  },
  {
   "cell_type": "code",
   "execution_count": 186,
   "metadata": {},
   "outputs": [
    {
     "data": {
      "text/html": [
       "<div>\n",
       "<style scoped>\n",
       "    .dataframe tbody tr th:only-of-type {\n",
       "        vertical-align: middle;\n",
       "    }\n",
       "\n",
       "    .dataframe tbody tr th {\n",
       "        vertical-align: top;\n",
       "    }\n",
       "\n",
       "    .dataframe thead th {\n",
       "        text-align: right;\n",
       "    }\n",
       "</style>\n",
       "<table border=\"1\" class=\"dataframe\">\n",
       "  <thead>\n",
       "    <tr style=\"text-align: right;\">\n",
       "      <th>4</th>\n",
       "      <th>Att.</th>\n",
       "      <th>#       Player</th>\n",
       "      <th>GP</th>\n",
       "      <th>G</th>\n",
       "      <th>A</th>\n",
       "      <th>PTS</th>\n",
       "      <th>SH</th>\n",
       "      <th>SH%</th>\n",
       "      <th>SOG</th>\n",
       "      <th>SOG%</th>\n",
       "      <th>YC-RC</th>\n",
       "      <th>GW</th>\n",
       "      <th>PK-ATT</th>\n",
       "      <th>Sport</th>\n",
       "      <th>Year</th>\n",
       "    </tr>\n",
       "  </thead>\n",
       "  <tbody>\n",
       "    <tr>\n",
       "      <th>5</th>\n",
       "      <td>138</td>\n",
       "      <td>Iribarren, Inaki</td>\n",
       "      <td>18</td>\n",
       "      <td>11</td>\n",
       "      <td>0</td>\n",
       "      <td>22</td>\n",
       "      <td>44</td>\n",
       "      <td>0.25</td>\n",
       "      <td>18</td>\n",
       "      <td>0.409</td>\n",
       "      <td>2-0</td>\n",
       "      <td>2</td>\n",
       "      <td>0-0</td>\n",
       "      <td>Soccer</td>\n",
       "      <td>2023</td>\n",
       "    </tr>\n",
       "    <tr>\n",
       "      <th>6</th>\n",
       "      <td>183</td>\n",
       "      <td>10     Allen, Alessandro</td>\n",
       "      <td>18</td>\n",
       "      <td>4</td>\n",
       "      <td>3</td>\n",
       "      <td>11</td>\n",
       "      <td>24</td>\n",
       "      <td>0.167</td>\n",
       "      <td>11</td>\n",
       "      <td>0.458</td>\n",
       "      <td>0-0</td>\n",
       "      <td>0</td>\n",
       "      <td>3-3</td>\n",
       "      <td>Soccer</td>\n",
       "      <td>2023</td>\n",
       "    </tr>\n",
       "    <tr>\n",
       "      <th>7</th>\n",
       "      <td>127</td>\n",
       "      <td>23     Carvalho, Max</td>\n",
       "      <td>18</td>\n",
       "      <td>4</td>\n",
       "      <td>3</td>\n",
       "      <td>11</td>\n",
       "      <td>30</td>\n",
       "      <td>0.133</td>\n",
       "      <td>17</td>\n",
       "      <td>0.567</td>\n",
       "      <td>0-0</td>\n",
       "      <td>2</td>\n",
       "      <td>0-1</td>\n",
       "      <td>Soccer</td>\n",
       "      <td>2023</td>\n",
       "    </tr>\n",
       "    <tr>\n",
       "      <th>8</th>\n",
       "      <td>127</td>\n",
       "      <td>Team</td>\n",
       "      <td>2</td>\n",
       "      <td>2</td>\n",
       "      <td>0</td>\n",
       "      <td>4</td>\n",
       "      <td>0</td>\n",
       "      <td>0</td>\n",
       "      <td>0</td>\n",
       "      <td>0</td>\n",
       "      <td>0-0</td>\n",
       "      <td>0</td>\n",
       "      <td>0-0</td>\n",
       "      <td>Soccer</td>\n",
       "      <td>2023</td>\n",
       "    </tr>\n",
       "    <tr>\n",
       "      <th>9</th>\n",
       "      <td>593</td>\n",
       "      <td>9       Arens, Brian</td>\n",
       "      <td>17</td>\n",
       "      <td>1</td>\n",
       "      <td>1</td>\n",
       "      <td>3</td>\n",
       "      <td>9</td>\n",
       "      <td>0.111</td>\n",
       "      <td>5</td>\n",
       "      <td>0.556</td>\n",
       "      <td>3-0</td>\n",
       "      <td>0</td>\n",
       "      <td>0-0</td>\n",
       "      <td>Soccer</td>\n",
       "      <td>2023</td>\n",
       "    </tr>\n",
       "  </tbody>\n",
       "</table>\n",
       "</div>"
      ],
      "text/plain": [
       "4 Att.            #       Player  GP   G  A PTS  SH    SH% SOG   SOG% YC-RC  \\\n",
       "5  138          Iribarren, Inaki  18  11  0  22  44   0.25  18  0.409   2-0   \n",
       "6  183  10     Allen, Alessandro  18   4  3  11  24  0.167  11  0.458   0-0   \n",
       "7  127      23     Carvalho, Max  18   4  3  11  30  0.133  17  0.567   0-0   \n",
       "8  127                      Team   2   2  0   4   0      0   0      0   0-0   \n",
       "9  593      9       Arens, Brian  17   1  1   3   9  0.111   5  0.556   3-0   \n",
       "\n",
       "4 GW PK-ATT   Sport  Year  \n",
       "5  2    0-0  Soccer  2023  \n",
       "6  0    3-3  Soccer  2023  \n",
       "7  2    0-1  Soccer  2023  \n",
       "8  0    0-0  Soccer  2023  \n",
       "9  0    0-0  Soccer  2023  "
      ]
     },
     "execution_count": 186,
     "metadata": {},
     "output_type": "execute_result"
    }
   ],
   "source": [
    "male_soccer_performance.head()"
   ]
  },
  {
   "cell_type": "markdown",
   "metadata": {},
   "source": [
    "Put all data with male volleyball performance into one. Add 'Sport' and 'Year' columns."
   ]
  },
  {
   "cell_type": "code",
   "execution_count": 53,
   "metadata": {},
   "outputs": [],
   "source": [
    "## YOUR CODE TO LOAD/CLEAN/TIDY/WRANGLE THE DATA GOES HERE\n",
    "## FEEL FREE TO ADD MULTIPLE CELLS PER SECTION \n",
    "male_volleyball_performance_2024 = pd.read_excel(\"data/performance_data/excel/Men_s Volleyball/2024 Men's Volleyball.xlsx\")\n",
    "male_volleyball_performance_2023 = pd.read_excel(\"data/performance_data/excel/Men_s Volleyball/2023 Men's Volleyball.xlsx\")\n",
    "male_volleyball_performance_2022 = pd.read_excel(\"data/performance_data/excel/Men_s Volleyball/2022 Men's Volleyball.xlsx\")\n",
    "male_volleyball_performance_2021 = pd.read_excel(\"data/performance_data/excel/Men_s Volleyball/2021 Men's Volleyball.xlsx\")\n",
    "male_volleyball_performance_2020 = pd.read_excel(\"data/performance_data/excel/Men_s Volleyball/2020 Men's Volleyball.xlsx\")\n",
    "male_volleyball_performance_2019 = pd.read_excel(\"data/performance_data/excel/Men_s Volleyball/2019 Men's Volleyball.xlsx\")\n",
    "male_volleyball_performance_2018 = pd.read_excel(\"data/performance_data/excel/Men_s Volleyball/2018 Men's Volleyball.xlsx\")\n",
    "male_volleyball_performance_2017 = pd.read_excel(\"data/performance_data/excel/Men_s Volleyball/2017 Men's Volleyball.xlsx\")\n"
   ]
  },
  {
   "cell_type": "code",
   "execution_count": 54,
   "metadata": {},
   "outputs": [
    {
     "data": {
      "text/plain": [
       "515"
      ]
     },
     "execution_count": 54,
     "metadata": {},
     "output_type": "execute_result"
    }
   ],
   "source": [
    "male_volleyball_performance_2024['Sport'] = 'Volleyball'\n",
    "male_volleyball_performance_2023['Sport'] = 'Volleyball'\n",
    "male_volleyball_performance_2022['Sport'] = 'Volleyball'\n",
    "male_volleyball_performance_2021['Sport'] = 'Volleyball'\n",
    "male_volleyball_performance_2020['Sport'] = 'Volleyball'\n",
    "male_volleyball_performance_2019['Sport'] = 'Volleyball'\n",
    "male_volleyball_performance_2018['Sport'] = 'Volleyball'\n",
    "male_volleyball_performance_2017['Sport'] = 'Volleyball'\n",
    "male_volleyball_performance_2024['Year'] = 2024\n",
    "male_volleyball_performance_2023['Year'] = 2023\n",
    "male_volleyball_performance_2022['Year'] = 2022\n",
    "male_volleyball_performance_2021['Year'] = 2021\n",
    "male_volleyball_performance_2020['Year'] = 2020\n",
    "male_volleyball_performance_2019['Year'] = 2019\n",
    "male_volleyball_performance_2018['Year'] = 2018\n",
    "male_volleyball_performance_2017['Year'] = 2017\n",
    "male_volleyball_performance = pd.concat([male_volleyball_performance_2024,male_volleyball_performance_2023,male_volleyball_performance_2022,male_volleyball_performance_2021,male_volleyball_performance_2020,male_volleyball_performance_2019,male_volleyball_performance_2018,male_volleyball_performance_2017], axis=0)\n",
    "male_volleyball_performance.shape[0]"
   ]
  },
  {
   "cell_type": "code",
   "execution_count": 393,
   "metadata": {},
   "outputs": [
    {
     "data": {
      "text/html": [
       "<div>\n",
       "<style scoped>\n",
       "    .dataframe tbody tr th:only-of-type {\n",
       "        vertical-align: middle;\n",
       "    }\n",
       "\n",
       "    .dataframe tbody tr th {\n",
       "        vertical-align: top;\n",
       "    }\n",
       "\n",
       "    .dataframe thead th {\n",
       "        text-align: right;\n",
       "    }\n",
       "</style>\n",
       "<table border=\"1\" class=\"dataframe\">\n",
       "  <thead>\n",
       "    <tr style=\"text-align: right;\">\n",
       "      <th></th>\n",
       "      <th>2024 UC San Diego Men's Volleyball\\nOverall Statistics (as of Feb 23, 2024)</th>\n",
       "      <th>Unnamed: 1</th>\n",
       "      <th>Unnamed: 2</th>\n",
       "      <th>Unnamed: 3</th>\n",
       "      <th>Unnamed: 4</th>\n",
       "      <th>Unnamed: 5</th>\n",
       "      <th>Unnamed: 6</th>\n",
       "      <th>Unnamed: 7</th>\n",
       "      <th>Unnamed: 8</th>\n",
       "      <th>Unnamed: 9</th>\n",
       "      <th>...</th>\n",
       "      <th>Unnamed: 35</th>\n",
       "      <th>Sport</th>\n",
       "      <th>Year</th>\n",
       "      <th>2023 UC San Diego Men's Volleyball\\nOverall Statistics (as of Apr 20, 2023)</th>\n",
       "      <th>2022 UC San Diego Men's Volleyball\\nOverall Statistics (as of May 27, 2022)</th>\n",
       "      <th>2021 UC San Diego Men's Volleyball\\nOverall Statistics (as of Apr 25, 2021)</th>\n",
       "      <th>2020 University of California, San Diego Men's Volleyball\\nOverall Statistics (as of Mar 11, 2020)</th>\n",
       "      <th>2019  Men's Volleyball\\nOverall Statistics (as of Dec 3, 2019)</th>\n",
       "      <th>2018  Men's Volleyball\\nOverall Statistics (as of Dec 3, 2019)</th>\n",
       "      <th>2017  Men's Volleyball\\nOverall Statistics (as of Dec 3, 2019)</th>\n",
       "    </tr>\n",
       "  </thead>\n",
       "  <tbody>\n",
       "    <tr>\n",
       "      <th>0</th>\n",
       "      <td>Overall Record: 6-8   Conf: 1-0   Home: 2-3   ...</td>\n",
       "      <td>NaN</td>\n",
       "      <td>NaN</td>\n",
       "      <td>NaN</td>\n",
       "      <td>NaN</td>\n",
       "      <td>NaN</td>\n",
       "      <td>NaN</td>\n",
       "      <td>NaN</td>\n",
       "      <td>NaN</td>\n",
       "      <td>NaN</td>\n",
       "      <td>...</td>\n",
       "      <td>NaN</td>\n",
       "      <td>Volleyball</td>\n",
       "      <td>2024</td>\n",
       "      <td>NaN</td>\n",
       "      <td>NaN</td>\n",
       "      <td>NaN</td>\n",
       "      <td>NaN</td>\n",
       "      <td>NaN</td>\n",
       "      <td>NaN</td>\n",
       "      <td>NaN</td>\n",
       "    </tr>\n",
       "    <tr>\n",
       "      <th>1</th>\n",
       "      <td>#</td>\n",
       "      <td>Player</td>\n",
       "      <td>NaN</td>\n",
       "      <td>SP</td>\n",
       "      <td>NaN</td>\n",
       "      <td>Attack\\nK</td>\n",
       "      <td>K/S</td>\n",
       "      <td>NaN</td>\n",
       "      <td>NaN</td>\n",
       "      <td>E</td>\n",
       "      <td>...</td>\n",
       "      <td>PTS</td>\n",
       "      <td>Volleyball</td>\n",
       "      <td>2024</td>\n",
       "      <td>NaN</td>\n",
       "      <td>NaN</td>\n",
       "      <td>NaN</td>\n",
       "      <td>NaN</td>\n",
       "      <td>NaN</td>\n",
       "      <td>NaN</td>\n",
       "      <td>NaN</td>\n",
       "    </tr>\n",
       "    <tr>\n",
       "      <th>2</th>\n",
       "      <td>2</td>\n",
       "      <td>Wurl, Cameron</td>\n",
       "      <td>NaN</td>\n",
       "      <td>25</td>\n",
       "      <td>NaN</td>\n",
       "      <td>2</td>\n",
       "      <td>0.08</td>\n",
       "      <td>NaN</td>\n",
       "      <td>NaN</td>\n",
       "      <td>4</td>\n",
       "      <td>...</td>\n",
       "      <td>18.5</td>\n",
       "      <td>Volleyball</td>\n",
       "      <td>2024</td>\n",
       "      <td>NaN</td>\n",
       "      <td>NaN</td>\n",
       "      <td>NaN</td>\n",
       "      <td>NaN</td>\n",
       "      <td>NaN</td>\n",
       "      <td>NaN</td>\n",
       "      <td>NaN</td>\n",
       "    </tr>\n",
       "    <tr>\n",
       "      <th>3</th>\n",
       "      <td>3</td>\n",
       "      <td>Dyer, Gabriel</td>\n",
       "      <td>NaN</td>\n",
       "      <td>7</td>\n",
       "      <td>NaN</td>\n",
       "      <td>0</td>\n",
       "      <td>0</td>\n",
       "      <td>NaN</td>\n",
       "      <td>NaN</td>\n",
       "      <td>0</td>\n",
       "      <td>...</td>\n",
       "      <td>2</td>\n",
       "      <td>Volleyball</td>\n",
       "      <td>2024</td>\n",
       "      <td>NaN</td>\n",
       "      <td>NaN</td>\n",
       "      <td>NaN</td>\n",
       "      <td>NaN</td>\n",
       "      <td>NaN</td>\n",
       "      <td>NaN</td>\n",
       "      <td>NaN</td>\n",
       "    </tr>\n",
       "    <tr>\n",
       "      <th>4</th>\n",
       "      <td>4</td>\n",
       "      <td>Lara, Sebastian</td>\n",
       "      <td>NaN</td>\n",
       "      <td>39</td>\n",
       "      <td>NaN</td>\n",
       "      <td>77</td>\n",
       "      <td>1.97</td>\n",
       "      <td>NaN</td>\n",
       "      <td>NaN</td>\n",
       "      <td>25</td>\n",
       "      <td>...</td>\n",
       "      <td>88.5</td>\n",
       "      <td>Volleyball</td>\n",
       "      <td>2024</td>\n",
       "      <td>NaN</td>\n",
       "      <td>NaN</td>\n",
       "      <td>NaN</td>\n",
       "      <td>NaN</td>\n",
       "      <td>NaN</td>\n",
       "      <td>NaN</td>\n",
       "      <td>NaN</td>\n",
       "    </tr>\n",
       "    <tr>\n",
       "      <th>5</th>\n",
       "      <td>5</td>\n",
       "      <td>Boyle, Evan</td>\n",
       "      <td>NaN</td>\n",
       "      <td>50</td>\n",
       "      <td>NaN</td>\n",
       "      <td>0</td>\n",
       "      <td>0</td>\n",
       "      <td>NaN</td>\n",
       "      <td>NaN</td>\n",
       "      <td>0</td>\n",
       "      <td>...</td>\n",
       "      <td>0</td>\n",
       "      <td>Volleyball</td>\n",
       "      <td>2024</td>\n",
       "      <td>NaN</td>\n",
       "      <td>NaN</td>\n",
       "      <td>NaN</td>\n",
       "      <td>NaN</td>\n",
       "      <td>NaN</td>\n",
       "      <td>NaN</td>\n",
       "      <td>NaN</td>\n",
       "    </tr>\n",
       "    <tr>\n",
       "      <th>6</th>\n",
       "      <td>6</td>\n",
       "      <td>Pravednikov, Leo</td>\n",
       "      <td>NaN</td>\n",
       "      <td>12</td>\n",
       "      <td>NaN</td>\n",
       "      <td>11</td>\n",
       "      <td>0.92</td>\n",
       "      <td>NaN</td>\n",
       "      <td>NaN</td>\n",
       "      <td>4</td>\n",
       "      <td>...</td>\n",
       "      <td>12.5</td>\n",
       "      <td>Volleyball</td>\n",
       "      <td>2024</td>\n",
       "      <td>NaN</td>\n",
       "      <td>NaN</td>\n",
       "      <td>NaN</td>\n",
       "      <td>NaN</td>\n",
       "      <td>NaN</td>\n",
       "      <td>NaN</td>\n",
       "      <td>NaN</td>\n",
       "    </tr>\n",
       "    <tr>\n",
       "      <th>7</th>\n",
       "      <td>7</td>\n",
       "      <td>Lim, Matthew</td>\n",
       "      <td>NaN</td>\n",
       "      <td>31</td>\n",
       "      <td>NaN</td>\n",
       "      <td>69</td>\n",
       "      <td>2.23</td>\n",
       "      <td>NaN</td>\n",
       "      <td>NaN</td>\n",
       "      <td>35</td>\n",
       "      <td>...</td>\n",
       "      <td>83</td>\n",
       "      <td>Volleyball</td>\n",
       "      <td>2024</td>\n",
       "      <td>NaN</td>\n",
       "      <td>NaN</td>\n",
       "      <td>NaN</td>\n",
       "      <td>NaN</td>\n",
       "      <td>NaN</td>\n",
       "      <td>NaN</td>\n",
       "      <td>NaN</td>\n",
       "    </tr>\n",
       "    <tr>\n",
       "      <th>8</th>\n",
       "      <td>9</td>\n",
       "      <td>Wiemelt, Leo</td>\n",
       "      <td>NaN</td>\n",
       "      <td>11</td>\n",
       "      <td>NaN</td>\n",
       "      <td>15</td>\n",
       "      <td>1.36</td>\n",
       "      <td>NaN</td>\n",
       "      <td>NaN</td>\n",
       "      <td>4</td>\n",
       "      <td>...</td>\n",
       "      <td>20</td>\n",
       "      <td>Volleyball</td>\n",
       "      <td>2024</td>\n",
       "      <td>NaN</td>\n",
       "      <td>NaN</td>\n",
       "      <td>NaN</td>\n",
       "      <td>NaN</td>\n",
       "      <td>NaN</td>\n",
       "      <td>NaN</td>\n",
       "      <td>NaN</td>\n",
       "    </tr>\n",
       "    <tr>\n",
       "      <th>9</th>\n",
       "      <td>10</td>\n",
       "      <td>Schellinger, Josh</td>\n",
       "      <td>NaN</td>\n",
       "      <td>42</td>\n",
       "      <td>NaN</td>\n",
       "      <td>64</td>\n",
       "      <td>1.52</td>\n",
       "      <td>NaN</td>\n",
       "      <td>NaN</td>\n",
       "      <td>33</td>\n",
       "      <td>...</td>\n",
       "      <td>81.5</td>\n",
       "      <td>Volleyball</td>\n",
       "      <td>2024</td>\n",
       "      <td>NaN</td>\n",
       "      <td>NaN</td>\n",
       "      <td>NaN</td>\n",
       "      <td>NaN</td>\n",
       "      <td>NaN</td>\n",
       "      <td>NaN</td>\n",
       "      <td>NaN</td>\n",
       "    </tr>\n",
       "  </tbody>\n",
       "</table>\n",
       "<p>10 rows × 45 columns</p>\n",
       "</div>"
      ],
      "text/plain": [
       "  2024 UC San Diego Men's Volleyball\\nOverall Statistics (as of Feb 23, 2024)  \\\n",
       "0  Overall Record: 6-8   Conf: 1-0   Home: 2-3   ...                            \n",
       "1                                                  #                            \n",
       "2                                                  2                            \n",
       "3                                                  3                            \n",
       "4                                                  4                            \n",
       "5                                                  5                            \n",
       "6                                                  6                            \n",
       "7                                                  7                            \n",
       "8                                                  9                            \n",
       "9                                                 10                            \n",
       "\n",
       "          Unnamed: 1 Unnamed: 2 Unnamed: 3 Unnamed: 4 Unnamed: 5 Unnamed: 6  \\\n",
       "0                NaN        NaN        NaN        NaN        NaN        NaN   \n",
       "1             Player        NaN         SP        NaN  Attack\\nK        K/S   \n",
       "2      Wurl, Cameron        NaN         25        NaN          2       0.08   \n",
       "3      Dyer, Gabriel        NaN          7        NaN          0          0   \n",
       "4    Lara, Sebastian        NaN         39        NaN         77       1.97   \n",
       "5        Boyle, Evan        NaN         50        NaN          0          0   \n",
       "6   Pravednikov, Leo        NaN         12        NaN         11       0.92   \n",
       "7       Lim, Matthew        NaN         31        NaN         69       2.23   \n",
       "8       Wiemelt, Leo        NaN         11        NaN         15       1.36   \n",
       "9  Schellinger, Josh        NaN         42        NaN         64       1.52   \n",
       "\n",
       "  Unnamed: 7 Unnamed: 8 Unnamed: 9  ... Unnamed: 35       Sport  Year  \\\n",
       "0        NaN        NaN        NaN  ...         NaN  Volleyball  2024   \n",
       "1        NaN        NaN          E  ...         PTS  Volleyball  2024   \n",
       "2        NaN        NaN          4  ...        18.5  Volleyball  2024   \n",
       "3        NaN        NaN          0  ...           2  Volleyball  2024   \n",
       "4        NaN        NaN         25  ...        88.5  Volleyball  2024   \n",
       "5        NaN        NaN          0  ...           0  Volleyball  2024   \n",
       "6        NaN        NaN          4  ...        12.5  Volleyball  2024   \n",
       "7        NaN        NaN         35  ...          83  Volleyball  2024   \n",
       "8        NaN        NaN          4  ...          20  Volleyball  2024   \n",
       "9        NaN        NaN         33  ...        81.5  Volleyball  2024   \n",
       "\n",
       "  2023 UC San Diego Men's Volleyball\\nOverall Statistics (as of Apr 20, 2023)  \\\n",
       "0                                                NaN                            \n",
       "1                                                NaN                            \n",
       "2                                                NaN                            \n",
       "3                                                NaN                            \n",
       "4                                                NaN                            \n",
       "5                                                NaN                            \n",
       "6                                                NaN                            \n",
       "7                                                NaN                            \n",
       "8                                                NaN                            \n",
       "9                                                NaN                            \n",
       "\n",
       "  2022 UC San Diego Men's Volleyball\\nOverall Statistics (as of May 27, 2022)  \\\n",
       "0                                                NaN                            \n",
       "1                                                NaN                            \n",
       "2                                                NaN                            \n",
       "3                                                NaN                            \n",
       "4                                                NaN                            \n",
       "5                                                NaN                            \n",
       "6                                                NaN                            \n",
       "7                                                NaN                            \n",
       "8                                                NaN                            \n",
       "9                                                NaN                            \n",
       "\n",
       "  2021 UC San Diego Men's Volleyball\\nOverall Statistics (as of Apr 25, 2021)  \\\n",
       "0                                                NaN                            \n",
       "1                                                NaN                            \n",
       "2                                                NaN                            \n",
       "3                                                NaN                            \n",
       "4                                                NaN                            \n",
       "5                                                NaN                            \n",
       "6                                                NaN                            \n",
       "7                                                NaN                            \n",
       "8                                                NaN                            \n",
       "9                                                NaN                            \n",
       "\n",
       "  2020 University of California, San Diego Men's Volleyball\\nOverall Statistics (as of Mar 11, 2020)  \\\n",
       "0                                                NaN                                                   \n",
       "1                                                NaN                                                   \n",
       "2                                                NaN                                                   \n",
       "3                                                NaN                                                   \n",
       "4                                                NaN                                                   \n",
       "5                                                NaN                                                   \n",
       "6                                                NaN                                                   \n",
       "7                                                NaN                                                   \n",
       "8                                                NaN                                                   \n",
       "9                                                NaN                                                   \n",
       "\n",
       "  2019  Men's Volleyball\\nOverall Statistics (as of Dec 3, 2019)  \\\n",
       "0                                                NaN               \n",
       "1                                                NaN               \n",
       "2                                                NaN               \n",
       "3                                                NaN               \n",
       "4                                                NaN               \n",
       "5                                                NaN               \n",
       "6                                                NaN               \n",
       "7                                                NaN               \n",
       "8                                                NaN               \n",
       "9                                                NaN               \n",
       "\n",
       "  2018  Men's Volleyball\\nOverall Statistics (as of Dec 3, 2019)  \\\n",
       "0                                                NaN               \n",
       "1                                                NaN               \n",
       "2                                                NaN               \n",
       "3                                                NaN               \n",
       "4                                                NaN               \n",
       "5                                                NaN               \n",
       "6                                                NaN               \n",
       "7                                                NaN               \n",
       "8                                                NaN               \n",
       "9                                                NaN               \n",
       "\n",
       "  2017  Men's Volleyball\\nOverall Statistics (as of Dec 3, 2019)  \n",
       "0                                                NaN              \n",
       "1                                                NaN              \n",
       "2                                                NaN              \n",
       "3                                                NaN              \n",
       "4                                                NaN              \n",
       "5                                                NaN              \n",
       "6                                                NaN              \n",
       "7                                                NaN              \n",
       "8                                                NaN              \n",
       "9                                                NaN              \n",
       "\n",
       "[10 rows x 45 columns]"
      ]
     },
     "execution_count": 393,
     "metadata": {},
     "output_type": "execute_result"
    }
   ],
   "source": [
    "male_volleyball_performance.head(10)"
   ]
  },
  {
   "cell_type": "code",
   "execution_count": null,
   "metadata": {},
   "outputs": [],
   "source": [
    "cols_with_nan_in_first_row = male_volleyball_performance.iloc[0].isna()\n",
    "\n",
    "columns_to_drop = cols_with_nan_in_first_row[cols_with_nan_in_first_row].index.tolist()\n",
    "\n",
    "male_basketball_performance.drop(columns=columns_to_drop, inplace=True)\n",
    "\n",
    "male_basketball_performance.columns = male_basketball_performance.iloc[0]\n",
    "male_basketball_performance = male_basketball_performance.drop(male_basketball_performance.index[0])\n",
    "male_basketball_performance.rename(columns={'Basketball': 'Sport', 2023: 'Year'}, inplace=True)\n",
    "male_basketball_performance = male_basketball_performance.dropna(subset=['Player'])"
   ]
  },
  {
   "cell_type": "code",
   "execution_count": null,
   "metadata": {},
   "outputs": [],
   "source": []
  },
  {
   "cell_type": "markdown",
   "metadata": {},
   "source": [
    "Put all data with male water polo performance into one. Add 'Sport' and 'Year' columns."
   ]
  },
  {
   "cell_type": "code",
   "execution_count": 55,
   "metadata": {},
   "outputs": [],
   "source": [
    "male_waterpolo_performance_2023 = pd.read_excel(\"data/performance_data/excel/Men_s WaterPolo/2023 Men's Water Polo.xlsx\")\n",
    "male_waterpolo_performance_2022 = pd.read_excel(\"data/performance_data/excel/Men_s WaterPolo/2022 Men's Water Polo.xlsx\")\n",
    "male_waterpolo_performance_2021 = pd.read_excel(\"data/performance_data/excel/Men_s WaterPolo/2021 Men's Water Polo.xlsx\")"
   ]
  },
  {
   "cell_type": "code",
   "execution_count": 69,
   "metadata": {},
   "outputs": [
    {
     "data": {
      "text/plain": [
       "236"
      ]
     },
     "execution_count": 69,
     "metadata": {},
     "output_type": "execute_result"
    }
   ],
   "source": [
    "male_waterpolo_performance_2023['Sport'] = 'Water Polo'\n",
    "male_waterpolo_performance_2022['Sport'] = 'Water Polo'\n",
    "male_waterpolo_performance_2021['Sport'] = 'Water Polo'\n",
    "male_waterpolo_performance_2023['Year'] = 2023\n",
    "male_waterpolo_performance_2022['Year'] = 2022\n",
    "male_waterpolo_performance_2021['Year'] = 2021\n",
    "male_waterpolo_performance = pd.concat([male_waterpolo_performance_2023,male_waterpolo_performance_2022,male_waterpolo_performance_2021], axis=0)\n",
    "male_waterpolo_performance.shape[0]"
   ]
  },
  {
   "cell_type": "markdown",
   "metadata": {},
   "source": [
    "Put all data with female basketball performance into one. Add 'Sport' and 'Year' columns."
   ]
  },
  {
   "cell_type": "code",
   "execution_count": 60,
   "metadata": {},
   "outputs": [],
   "source": [
    "female_basketball_performance_2023 = pd.read_excel(\"data/performance_data/excel/Women_s Basketball/2023 Women_s Basketball.xlsx\")\n",
    "female_basketball_performance_2022 = pd.read_excel(\"data/performance_data/excel/Women_s Basketball/2022 Women_s Basketball.xlsx\")\n",
    "female_basketball_performance_2021 = pd.read_excel(\"data/performance_data/excel/Women_s Basketball/2021 Women_s Basketball.xlsx\")\n",
    "female_basketball_performance_2020 = pd.read_excel(\"data/performance_data/excel/Women_s Basketball/2020 Women_s Basketball.xlsx\")\n",
    "female_basketball_performance_2019 = pd.read_excel(\"data/performance_data/excel/Women_s Basketball/2019 Women_s Basketball.xlsx\")\n",
    "female_basketball_performance_2018 = pd.read_excel(\"data/performance_data/excel/Women_s Basketball/2018 Women_s Basketball.xlsx\")\n",
    "female_basketball_performance_2017 = pd.read_excel(\"data/performance_data/excel/Women_s Basketball/2017 Women_s Basketball.xlsx\")\n",
    "female_basketball_performance_2016 = pd.read_excel(\"data/performance_data/excel/Women_s Basketball/2016 Women_s Basketball.xlsx\")\n",
    "female_basketball_performance_2015 = pd.read_excel(\"data/performance_data/excel/Women_s Basketball/2015 Women_s Basketball.xlsx\")\n",
    "female_basketball_performance_2014 = pd.read_excel(\"data/performance_data/excel/Women_s Basketball/2014 Women_s Basketball.xlsx\")\n",
    "female_basketball_performance_2013 = pd.read_excel(\"data/performance_data/excel/Women_s Basketball/2013 Women's Basketball.xlsx\")\n",
    "female_basketball_performance_2012 = pd.read_excel(\"data/performance_data/excel/Women_s Basketball/2012 Women's Basketball.xlsx\")\n",
    "female_basketball_performance_2011 = pd.read_excel(\"data/performance_data/excel/Women_s Basketball/2011 Women's Basketball.xlsx\")\n",
    "female_basketball_performance_2010 = pd.read_excel(\"data/performance_data/excel/Women_s Basketball/2010 Women's Basketball.xlsx\")"
   ]
  },
  {
   "cell_type": "code",
   "execution_count": 61,
   "metadata": {},
   "outputs": [
    {
     "data": {
      "text/plain": [
       "1378"
      ]
     },
     "execution_count": 61,
     "metadata": {},
     "output_type": "execute_result"
    }
   ],
   "source": [
    "female_basketball_performance_2023['Sport'] = 'Basketball'\n",
    "female_basketball_performance_2022['Sport'] = 'Basketball'\n",
    "female_basketball_performance_2021['Sport'] = 'Basketball'\n",
    "female_basketball_performance_2020['Sport'] = 'Basketball'\n",
    "female_basketball_performance_2019['Sport'] = 'Basketball'\n",
    "female_basketball_performance_2018['Sport'] = 'Basketball'\n",
    "female_basketball_performance_2017['Sport'] = 'Basketball'\n",
    "female_basketball_performance_2016['Sport'] = 'Basketball'\n",
    "female_basketball_performance_2015['Sport'] = 'Basketball'\n",
    "female_basketball_performance_2014['Sport'] = 'Basketball'\n",
    "female_basketball_performance_2013['Sport'] = 'Basketball'\n",
    "female_basketball_performance_2012['Sport'] = 'Basketball'\n",
    "female_basketball_performance_2011['Sport'] = 'Basketball'\n",
    "female_basketball_performance_2010['Sport'] = 'Basketball'\n",
    "female_basketball_performance_2023['Year'] = 2023\n",
    "female_basketball_performance_2022['Year'] = 2022\n",
    "female_basketball_performance_2021['Year'] = 2021\n",
    "female_basketball_performance_2020['Year'] = 2020\n",
    "female_basketball_performance_2019['Year'] = 2019\n",
    "female_basketball_performance_2018['Year'] = 2018\n",
    "female_basketball_performance_2017['Year'] = 2017\n",
    "female_basketball_performance_2016['Year'] = 2016\n",
    "female_basketball_performance_2015['Year'] = 2015\n",
    "female_basketball_performance_2014['Year'] = 2014\n",
    "female_basketball_performance_2013['Year'] = 2013\n",
    "female_basketball_performance_2012['Year'] = 2012\n",
    "female_basketball_performance_2011['Year'] = 2011\n",
    "female_basketball_performance_2010['Year'] = 2010\n",
    "female_basketball_performance = pd.concat([female_basketball_performance_2023,female_basketball_performance_2022,female_basketball_performance_2021,female_basketball_performance_2020,female_basketball_performance_2019,female_basketball_performance_2018,female_basketball_performance_2017,female_basketball_performance_2016,female_basketball_performance_2015,female_basketball_performance_2014,female_basketball_performance_2013,female_basketball_performance_2012,female_basketball_performance_2011,female_basketball_performance_2010], axis=0)\n",
    "female_basketball_performance.shape[0]\n"
   ]
  },
  {
   "cell_type": "markdown",
   "metadata": {},
   "source": [
    "Put all data with female soccer performance into one. Add 'Sport' and 'Year' columns."
   ]
  },
  {
   "cell_type": "code",
   "execution_count": 63,
   "metadata": {},
   "outputs": [],
   "source": [
    "female_soccer_performance_2023 = pd.read_excel(\"data/performance_data/excel/Women_s Soccer/2023 Women_s Soccer.xlsx\")\n",
    "female_soccer_performance_2022 = pd.read_excel(\"data/performance_data/excel/Women_s Soccer/2022 Women_s Soccer.xlsx\")\n",
    "female_soccer_performance_2021 = pd.read_excel(\"data/performance_data/excel/Women_s Soccer/2021 Women_s Soccer.xlsx\")\n",
    "female_soccer_performance_2019 = pd.read_excel(\"data/performance_data/excel/Women_s Soccer/2019 Women_s Soccer.xlsx\")\n",
    "female_soccer_performance_2018 = pd.read_excel(\"data/performance_data/excel/Women_s Soccer/2018 Women_s Soccer.xlsx\")\n",
    "female_soccer_performance_2017 = pd.read_excel(\"data/performance_data/excel/Women_s Soccer/2017 Women_s Soccer.xlsx\")\n",
    "female_soccer_performance_2016 = pd.read_excel(\"data/performance_data/excel/Women_s Soccer/2016 Women_s Soccer.xlsx\")\n",
    "female_soccer_performance_2015 = pd.read_excel(\"data/performance_data/excel/Women_s Soccer/2015 Women_s Soccer.xlsx\")\n",
    "female_soccer_performance_2014 = pd.read_excel(\"data/performance_data/excel/Women_s Soccer/2014 Women_s Soccer.xlsx\")\n",
    "female_soccer_performance_2013 = pd.read_excel(\"data/performance_data/excel/Women_s Soccer/2013 Women's Soccer.xlsx\")\n",
    "female_soccer_performance_2012 = pd.read_excel(\"data/performance_data/excel/Women_s Soccer/2012 Women's Soccer.xlsx\")\n",
    "female_soccer_performance_2011 = pd.read_excel(\"data/performance_data/excel/Women_s Soccer/2011 Women's Soccer.xlsx\")\n"
   ]
  },
  {
   "cell_type": "code",
   "execution_count": 64,
   "metadata": {},
   "outputs": [
    {
     "data": {
      "text/plain": [
       "838"
      ]
     },
     "execution_count": 64,
     "metadata": {},
     "output_type": "execute_result"
    }
   ],
   "source": [
    "female_soccer_performance_2023['Sport'] = 'Soccer'\n",
    "female_soccer_performance_2022['Sport'] = 'Soccer'\n",
    "female_soccer_performance_2021['Sport'] = 'Soccer'\n",
    "female_soccer_performance_2019['Sport'] = 'Soccer'\n",
    "female_soccer_performance_2018['Sport'] = 'Soccer'\n",
    "female_soccer_performance_2017['Sport'] = 'Soccer'\n",
    "female_soccer_performance_2016['Sport'] = 'Soccer'\n",
    "female_soccer_performance_2015['Sport'] = 'Soccer'\n",
    "female_soccer_performance_2014['Sport'] = 'Soccer'\n",
    "female_soccer_performance_2013['Sport'] = 'Soccer'\n",
    "female_soccer_performance_2012['Sport'] = 'Soccer'\n",
    "female_soccer_performance_2011['Sport'] = 'Soccer'\n",
    "female_soccer_performance_2023['Year'] = 2023\n",
    "female_soccer_performance_2022['Year'] = 2022\n",
    "female_soccer_performance_2021['Year'] = 2021\n",
    "female_soccer_performance_2019['Year'] = 2019\n",
    "female_soccer_performance_2018['Year'] = 2018\n",
    "female_soccer_performance_2017['Year'] = 2017\n",
    "female_soccer_performance_2016['Year'] = 2016\n",
    "female_soccer_performance_2015['Year'] = 2015\n",
    "female_soccer_performance_2014['Year'] = 2014\n",
    "female_soccer_performance_2013['Year'] = 2013\n",
    "female_soccer_performance_2012['Year'] = 2012\n",
    "female_soccer_performance_2011['Year'] = 2011\n",
    "female_soccer_performance = pd.concat([female_soccer_performance_2023,female_soccer_performance_2022,female_soccer_performance_2021,female_soccer_performance_2019,female_soccer_performance_2018,female_soccer_performance_2017,female_soccer_performance_2016,female_soccer_performance_2015,female_soccer_performance_2014,female_soccer_performance_2013,female_soccer_performance_2012,female_soccer_performance_2011], axis=0)\n",
    "female_soccer_performance.shape[0]\n"
   ]
  },
  {
   "cell_type": "markdown",
   "metadata": {},
   "source": [
    "Put all data with female volleyball performance into one. Add 'Sport' and 'Year' columns."
   ]
  },
  {
   "cell_type": "code",
   "execution_count": 65,
   "metadata": {},
   "outputs": [],
   "source": [
    "\n",
    "female_volleyball_performance_2023 = pd.read_excel(\"data/performance_data/excel/Women_s Volleyball/2023 Women_s Volleyball.xlsx\")\n",
    "female_volleyball_performance_2022 = pd.read_excel(\"data/performance_data/excel/Women_s Volleyball/2022 Women_s Volleyball.xlsx\")\n",
    "female_volleyball_performance_2021 = pd.read_excel(\"data/performance_data/excel/Women_s Volleyball/2021 Women_s Volleyball.xlsx\")\n",
    "female_volleyball_performance_2019 = pd.read_excel(\"data/performance_data/excel/Women_s Volleyball/2019 Women_s Volleyball.xlsx\")\n",
    "female_volleyball_performance_2018 = pd.read_excel(\"data/performance_data/excel/Women_s Volleyball/2018 Women_s Volleyball.xlsx\")\n",
    "female_volleyball_performance_2017 = pd.read_excel(\"data/performance_data/excel/Women_s Volleyball/2017 Women_s Volleyball.xlsx\")"
   ]
  },
  {
   "cell_type": "code",
   "execution_count": 66,
   "metadata": {},
   "outputs": [
    {
     "data": {
      "text/plain": [
       "415"
      ]
     },
     "execution_count": 66,
     "metadata": {},
     "output_type": "execute_result"
    }
   ],
   "source": [
    "female_volleyball_performance_2023['Sport'] = 'Volleyball'\n",
    "female_volleyball_performance_2022['Sport'] = 'Volleyball'\n",
    "female_volleyball_performance_2021['Sport'] = 'Volleyball'\n",
    "female_volleyball_performance_2019['Sport'] = 'Volleyball'\n",
    "female_volleyball_performance_2018['Sport'] = 'Volleyball'\n",
    "female_volleyball_performance_2017['Sport'] = 'Volleyball'\n",
    "female_volleyball_performance_2023['Year'] = 2023\n",
    "female_volleyball_performance_2022['Year'] = 2022\n",
    "female_volleyball_performance_2021['Year'] = 2021\n",
    "female_volleyball_performance_2019['Year'] = 2019\n",
    "female_volleyball_performance_2018['Year'] = 2018\n",
    "female_volleyball_performance_2017['Year'] = 2017\n",
    "female_volleyball_performance = pd.concat([female_volleyball_performance_2023,female_volleyball_performance_2022,female_volleyball_performance_2021,female_volleyball_performance_2019,female_volleyball_performance_2018,female_volleyball_performance_2017], axis=0)\n",
    "female_volleyball_performance.shape[0]"
   ]
  },
  {
   "cell_type": "markdown",
   "metadata": {},
   "source": [
    "Put all data with female water polo performance into one. Add 'Sport' and 'Year' columns."
   ]
  },
  {
   "cell_type": "code",
   "execution_count": 67,
   "metadata": {},
   "outputs": [],
   "source": [
    "female_waterpolo_performance_2024 = pd.read_excel(\"data/performance_data/excel/Women_s WaterPolo/2024 Women's Water Polo.xlsx\")\n",
    "female_waterpolo_performance_2023 = pd.read_excel(\"data/performance_data/excel/Women_s WaterPolo/2023 Women's Water Polo.xlsx\")\n",
    "female_waterpolo_performance_2022 = pd.read_excel(\"data/performance_data/excel/Women_s WaterPolo/2022 Women's Water Polo.xlsx\")\n"
   ]
  },
  {
   "cell_type": "code",
   "execution_count": 68,
   "metadata": {},
   "outputs": [
    {
     "data": {
      "text/plain": [
       "205"
      ]
     },
     "execution_count": 68,
     "metadata": {},
     "output_type": "execute_result"
    }
   ],
   "source": [
    "female_waterpolo_performance_2023['Sport'] = 'Water Polo'\n",
    "female_waterpolo_performance_2022['Sport'] = 'Water Polo'\n",
    "female_waterpolo_performance_2024['Sport'] = 'Water Polo'\n",
    "female_waterpolo_performance_2023['Year'] = 2023\n",
    "female_waterpolo_performance_2022['Year'] = 2022\n",
    "female_waterpolo_performance_2024['Year'] = 2024\n",
    "female_waterpolo_performance = pd.concat([female_waterpolo_performance_2023,female_waterpolo_performance_2022,female_waterpolo_performance_2024], axis=0)\n",
    "female_waterpolo_performance.shape[0]"
   ]
  },
  {
   "cell_type": "code",
   "execution_count": 74,
   "metadata": {},
   "outputs": [
    {
     "data": {
      "text/plain": [
       "Index(['Overall Record: 19-9   Conf: 13-3   Home: 13-1   Away: 6-7   Neutral: 0-1',\n",
       "       'Unnamed: 1', 'Unnamed: 2', 'Unnamed: 3', 'Unnamed: 4', 'Unnamed: 5',\n",
       "       'Unnamed: 6', 'Unnamed: 7', 'Unnamed: 8', 'Unnamed: 9', 'Unnamed: 10',\n",
       "       'Unnamed: 11', 'Unnamed: 12', 'Unnamed: 13', 'Unnamed: 14',\n",
       "       'Unnamed: 15', 'Unnamed: 16', 'Unnamed: 17', 'Unnamed: 18',\n",
       "       'Unnamed: 19', 'Unnamed: 20', 'Unnamed: 21', 'Unnamed: 22',\n",
       "       'Unnamed: 23', 'Unnamed: 24', 'Unnamed: 25', 'Unnamed: 26',\n",
       "       'Unnamed: 27', 'Unnamed: 28', 'Sport', 'Year',\n",
       "       'Overall Record: 10-20   Conf: 5-13   Home: 4-10   Away: 6-9   Neutral: 0-1',\n",
       "       '2021-2022 UC San Diego Men's Basketball\\nOverall Statistics (as of Mar 5, 2022)',\n",
       "       '2020-2021 UC San Diego Men's Basketball\\nOverall Statistics (as of Mar 11, 2021)',\n",
       "       'Overall Record: 30-1   Conf: 21-1   Home: 14-1   Away: 14-0   Neutral: 2-0',\n",
       "       'Unnamed: 29',\n",
       "       'Overall Record: 26-8   Conf: 17-5   Home: 14-1   Away: 7-6   Neutral: 5-1',\n",
       "       'Unnamed: 30', 'Unnamed: 31',\n",
       "       'Overall Record: 21-11   Conf: 15-7   Home: 8-4   Away: 11-4   Neutral: 2-3',\n",
       "       'Overall Record: 27-6   Conf: 17-3   Home: 15-3   Away: 9-3   Neutral: 3-0'],\n",
       "      dtype='object')"
      ]
     },
     "execution_count": 74,
     "metadata": {},
     "output_type": "execute_result"
    }
   ],
   "source": [
    "male_basketball_performance.columns"
   ]
  },
  {
   "cell_type": "markdown",
   "metadata": {},
   "source": [
    "# Ethics & Privacy"
   ]
  },
  {
   "cell_type": "markdown",
   "metadata": {},
   "source": [
    "ethics"
   ]
  },
  {
   "cell_type": "markdown",
   "metadata": {},
   "source": [
    "# Team Expectations "
   ]
  },
  {
   "cell_type": "markdown",
   "metadata": {},
   "source": [
    "* Meet weekly on Zoom (usually on weekends)\n",
    "* Meet up in person every other week\n",
    "* Communicate throughout the week in our Instagram group chat to give project updates\n",
    "* Respond to each other's messages within 24 hours"
   ]
  },
  {
   "cell_type": "markdown",
   "metadata": {},
   "source": [
    "# Project Timeline Proposal"
   ]
  },
  {
   "cell_type": "markdown",
   "metadata": {},
   "source": [
    "\n",
    "| Meeting Date  | Meeting Time| Completed Before Meeting  | Discuss at Meeting |\n",
    "|---|---|---|---|\n",
    "| 2/7  |  3 PM | Brainstorm research topics and ideas for a research question  | Pick a research topic and question | \n",
    "| 2/8  |  5 PM |  Do background research on topic; write background, data, and ethics and privacy sections  | Write research question and hypothesis sections and finalize the rest of our project proposal | \n",
    "| 2/20  | 7 PM  | Research relevant data sets  | Finalize project data sets; wrangle data sets into a tidy format   |\n",
    "| 2/24  | 7 PM  | Write data checkpoint #1 sections | Review/edit checkpoint #1 sections; make sure data is tidy   |\n",
    "| 2/29  | 7 PM  | Review data | Conduct EDA |\n",
    "| 3/9  | 7 PM  | Write data checkpoint #2 sections| Review/edit checkpoint #2 sections; go over EDA to make sure we're all on the same page |\n",
    "| 3/14  | 7 PM  | Work on final video logistics - how to present and designating roles | Film final video |\n",
    "| 3/19  | Before 11:59 PM  | Review entire project; make final edits | Turn in final report and final video |"
   ]
  },
  {
   "cell_type": "markdown",
   "metadata": {},
   "source": []
  }
 ],
 "metadata": {
  "kernelspec": {
   "display_name": "Python 3 (ipykernel)",
   "language": "python",
   "name": "python3"
  },
  "language_info": {
   "codemirror_mode": {
    "name": "ipython",
    "version": 3
   },
   "file_extension": ".py",
   "mimetype": "text/x-python",
   "name": "python",
   "nbconvert_exporter": "python",
   "pygments_lexer": "ipython3",
   "version": "3.9.6"
  }
 },
 "nbformat": 4,
 "nbformat_minor": 2
}
