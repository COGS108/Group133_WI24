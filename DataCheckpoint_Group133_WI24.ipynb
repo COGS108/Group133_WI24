{
 "cells": [
  {
   "cell_type": "markdown",
   "metadata": {},
   "source": [
    "**If you lost points on the last checkpoint you can get them back by responding to TA/IA feedback**  \n",
    "\n",
    "Update/change the relevant sections where you lost those points, make sure you respond on GitHub Issues to your TA/IA to call their attention to the changes you made here.\n",
    "\n",
    "Please update your Timeline... no battle plan survives contact with the enemy, so make sure we understand how your plans have changed."
   ]
  },
  {
   "cell_type": "markdown",
   "metadata": {},
   "source": [
    "# COGS 108 - Data Checkpoint"
   ]
  },
  {
   "cell_type": "markdown",
   "metadata": {},
   "source": [
    "# Names\n",
    "\n",
    "- Ant Man\n",
    "- Hulk\n",
    "- Iron Man\n",
    "- Thor\n",
    "- Wasp"
   ]
  },
  {
   "cell_type": "markdown",
   "metadata": {},
   "source": [
    "# Research Question"
   ]
  },
  {
   "cell_type": "markdown",
   "metadata": {},
   "source": [
    "-  Include a specific, clear data science question.\n",
    "-  Make sure what you're measuring (variables) to answer the question is clear\n",
    "\n",
    "What is your research question? Include the specific question you're setting out to answer. This question should be specific, answerable with data, and clear. A general question with specific subquestions is permitted. (1-2 sentences)\n",
    "\n"
   ]
  },
  {
   "cell_type": "markdown",
   "metadata": {},
   "source": [
    "## Background and Prior Work"
   ]
  },
  {
   "cell_type": "markdown",
   "metadata": {},
   "source": [
    "\n",
    "- Include a general introduction to your topic\n",
    "- Include explanation of what work has been done previously\n",
    "- Include citations or links to previous work\n",
    "\n",
    "This section will present the background and context of your topic and question in a few paragraphs. Include a general introduction to your topic and then describe what information you currently know about the topic after doing your initial research. Include references to other projects who have asked similar questions or approached similar problems. Explain what others have learned in their projects.\n",
    "\n",
    "Find some relevant prior work, and reference those sources, summarizing what each did and what they learned. Even if you think you have a totally novel question, find the most similar prior work that you can and discuss how it relates to your project.\n",
    "\n",
    "References can be research publications, but they need not be. Blogs, GitHub repositories, company websites, etc., are all viable references if they are relevant to your project. It must be clear which information comes from which references. (2-3 paragraphs, including at least 2 references)\n",
    "\n",
    " **Use inline citation through HTML footnotes to specify which references support which statements** \n",
    "\n",
    "For example: After government genocide in the 20th century, real birds were replaced with surveillance drones designed to look just like birds.<a name=\"cite_ref-1\"></a>[<sup>1</sup>](#cite_note-1) Use a minimum of 2 or 3 citations, but we prefer more.<a name=\"cite_ref-2\"></a>[<sup>2</sup>](#cite_note-2) You need enough to fully explain and back up important facts. \n",
    "\n",
    "Note that if you click a footnote number in the paragraph above it will transport you to the proper entry in the footnotes list below.  And if you click the ^ in the footnote entry, it will return you to the place in the main text where the footnote is made.\n",
    "\n",
    "To understand the HTML here, `<a name=\"#...\"> </a>` is a tag that allows you produce a named reference for a given location.  Markdown has the construciton `[text with hyperlink](#named reference)` that will produce a clickable link that transports you the named reference.\n",
    "\n",
    "1. <a name=\"cite_note-1\"></a> [^](#cite_ref-1) Lorenz, T. (9 Dec 2021) Birds Aren’t Real, or Are They? Inside a Gen Z Conspiracy Theory. *The New York Times*. https://www.nytimes.com/2021/12/09/technology/birds-arent-real-gen-z-misinformation.html \n",
    "2. <a name=\"cite_note-2\"></a> [^](#cite_ref-2) Also refs should be important to the background, not some randomly chosen vaguely related stuff. Include a web link if possible in refs as above.\n"
   ]
  },
  {
   "cell_type": "markdown",
   "metadata": {},
   "source": [
    "# Hypothesis\n"
   ]
  },
  {
   "cell_type": "markdown",
   "metadata": {},
   "source": [
    "\n",
    "- Include your team's hypothesis\n",
    "- Ensure that this hypothesis is clear to readers\n",
    "- Explain why you think this will be the outcome (what was your thinking?)\n",
    "\n",
    "What is your main hypothesis/predictions about what the answer to your question is? Briefly explain your thinking. (2-3 sentences)"
   ]
  },
  {
   "cell_type": "markdown",
   "metadata": {},
   "source": [
    "Setup"
   ]
  },
  {
   "cell_type": "code",
   "execution_count": 5,
   "metadata": {},
   "outputs": [
    {
     "name": "stdout",
     "output_type": "stream",
     "text": [
      "Defaulting to user installation because normal site-packages is not writeable\n",
      "Collecting pandas\n",
      "  Downloading pandas-2.2.1-cp39-cp39-macosx_11_0_arm64.whl (11.3 MB)\n",
      "\u001b[K     |████████████████████████████████| 11.3 MB 1.9 MB/s eta 0:00:01\n",
      "\u001b[?25hCollecting pytz>=2020.1\n",
      "  Downloading pytz-2024.1-py2.py3-none-any.whl (505 kB)\n",
      "\u001b[K     |████████████████████████████████| 505 kB 549 kB/s eta 0:00:01\n",
      "\u001b[?25hCollecting tzdata>=2022.7\n",
      "  Downloading tzdata-2024.1-py2.py3-none-any.whl (345 kB)\n",
      "\u001b[K     |████████████████████████████████| 345 kB 12.9 MB/s eta 0:00:01\n",
      "\u001b[?25hCollecting numpy<2,>=1.22.4\n",
      "  Downloading numpy-1.26.4-cp39-cp39-macosx_11_0_arm64.whl (14.0 MB)\n",
      "\u001b[K     |████████████████████████████████| 14.0 MB 756 kB/s eta 0:00:01\n",
      "\u001b[?25hRequirement already satisfied: python-dateutil>=2.8.2 in /Users/qingtongzou/Library/Python/3.9/lib/python/site-packages (from pandas) (2.8.2)\n",
      "Requirement already satisfied: six>=1.5 in /Applications/Xcode.app/Contents/Developer/Library/Frameworks/Python3.framework/Versions/3.9/lib/python3.9/site-packages (from python-dateutil>=2.8.2->pandas) (1.15.0)\n",
      "Installing collected packages: tzdata, pytz, numpy, pandas\n",
      "Successfully installed numpy-1.26.4 pandas-2.2.1 pytz-2024.1 tzdata-2024.1\n",
      "\u001b[33mWARNING: You are using pip version 21.2.4; however, version 24.0 is available.\n",
      "You should consider upgrading via the '/Applications/Xcode.app/Contents/Developer/usr/bin/python3 -m pip install --upgrade pip' command.\u001b[0m\n",
      "Note: you may need to restart the kernel to use updated packages.\n"
     ]
    }
   ],
   "source": [
    "pip install pandas"
   ]
  },
  {
   "cell_type": "code",
   "execution_count": 6,
   "metadata": {},
   "outputs": [
    {
     "name": "stdout",
     "output_type": "stream",
     "text": [
      "Defaulting to user installation because normal site-packages is not writeable\n",
      "Requirement already satisfied: numpy in /Users/qingtongzou/Library/Python/3.9/lib/python/site-packages (1.26.4)\n",
      "\u001b[33mWARNING: You are using pip version 21.2.4; however, version 24.0 is available.\n",
      "You should consider upgrading via the '/Applications/Xcode.app/Contents/Developer/usr/bin/python3 -m pip install --upgrade pip' command.\u001b[0m\n",
      "Note: you may need to restart the kernel to use updated packages.\n"
     ]
    }
   ],
   "source": [
    "pip install numpy"
   ]
  },
  {
   "cell_type": "code",
   "execution_count": 34,
   "metadata": {},
   "outputs": [
    {
     "name": "stdout",
     "output_type": "stream",
     "text": [
      "Defaulting to user installation because normal site-packages is not writeable\n",
      "Collecting openpyxl\n",
      "  Downloading openpyxl-3.1.2-py2.py3-none-any.whl (249 kB)\n",
      "\u001b[K     |████████████████████████████████| 249 kB 3.1 MB/s eta 0:00:01\n",
      "\u001b[?25hCollecting et-xmlfile\n",
      "  Downloading et_xmlfile-1.1.0-py3-none-any.whl (4.7 kB)\n",
      "Installing collected packages: et-xmlfile, openpyxl\n",
      "Successfully installed et-xmlfile-1.1.0 openpyxl-3.1.2\n",
      "\u001b[33mWARNING: You are using pip version 21.2.4; however, version 24.0 is available.\n",
      "You should consider upgrading via the '/Applications/Xcode.app/Contents/Developer/usr/bin/python3 -m pip install --upgrade pip' command.\u001b[0m\n",
      "Note: you may need to restart the kernel to use updated packages.\n"
     ]
    }
   ],
   "source": [
    "pip install openpyxl"
   ]
  },
  {
   "cell_type": "code",
   "execution_count": 7,
   "metadata": {},
   "outputs": [],
   "source": [
    "import pandas as pd\n",
    "import numpy as np"
   ]
  },
  {
   "cell_type": "markdown",
   "metadata": {},
   "source": [
    "# Data"
   ]
  },
  {
   "cell_type": "markdown",
   "metadata": {},
   "source": [
    "## Data overview\n",
    "\n",
    "For each dataset include the following information\n",
    "- Dataset #1\n",
    "  - Dataset Name:\n",
    "  - Link to the dataset:\n",
    "  - Number of observations:\n",
    "  - Number of variables:\n",
    "- Dataset #2 (if you have more than one!)\n",
    "  - Dataset Name:\n",
    "  - Link to the dataset:\n",
    "  - Number of observations:\n",
    "  - Number of variables:\n",
    "- etc\n",
    "\n",
    "Now write 2 - 5 sentences describing each dataset here. Include a short description of the important variables in the dataset; what the metrics and datatypes are, what concepts they may be proxies for. Include information about how you would need to wrangle/clean/preprocess the dataset\n",
    "\n",
    "If you plan to use multiple datasets, add a few sentences about how you plan to combine these datasets."
   ]
  },
  {
   "cell_type": "markdown",
   "metadata": {},
   "source": [
    "## Dataset #1 (use name instead of number here)"
   ]
  },
  {
   "cell_type": "code",
   "execution_count": 14,
   "metadata": {},
   "outputs": [],
   "source": [
    "## YOUR CODE TO LOAD/CLEAN/TIDY/WRANGLE THE DATA GOES HERE\n",
    "## FEEL FREE TO ADD MULTIPLE CELLS PER SECTION \n",
    "male_basketball_bio = pd.read_csv('data/athlete_bio/male_basketball_rosters.csv')\n",
    "male_soccer_bio = pd.read_csv('data/athlete_bio/male_soccer_rosters.csv')\n",
    "male_volleyball_bio = pd.read_csv('data/athlete_bio/male_volleyball_rosters.csv')\n",
    "male_waterpolo_bio = pd.read_csv('data/athlete_bio/male_waterpolo_rosters.csv')\n",
    "female_basketball_bio = pd.read_csv('data/athlete_bio/female_basketball_rosters.csv')\n",
    "female_soccer_bio = pd.read_csv('data/athlete_bio/female_soccer_rosters.csv')\n",
    "female_volleyball_bio = pd.read_csv('data/athlete_bio/female_volleyball_rosters.csv')\n",
    "female_waterpolo_bio = pd.read_csv('data/athlete_bio/female_waterpolo_rosters.csv')\n"
   ]
  },
  {
   "cell_type": "code",
   "execution_count": 18,
   "metadata": {},
   "outputs": [
    {
     "data": {
      "text/html": [
       "<div>\n",
       "<style scoped>\n",
       "    .dataframe tbody tr th:only-of-type {\n",
       "        vertical-align: middle;\n",
       "    }\n",
       "\n",
       "    .dataframe tbody tr th {\n",
       "        vertical-align: top;\n",
       "    }\n",
       "\n",
       "    .dataframe thead th {\n",
       "        text-align: right;\n",
       "    }\n",
       "</style>\n",
       "<table border=\"1\" class=\"dataframe\">\n",
       "  <thead>\n",
       "    <tr style=\"text-align: right;\">\n",
       "      <th></th>\n",
       "      <th>Year</th>\n",
       "      <th>JerseyNum</th>\n",
       "      <th>Name</th>\n",
       "      <th>Position</th>\n",
       "      <th>Height</th>\n",
       "      <th>Weight</th>\n",
       "      <th>Major</th>\n",
       "      <th>Class</th>\n",
       "      <th>HomeTownHighSchool</th>\n",
       "    </tr>\n",
       "  </thead>\n",
       "  <tbody>\n",
       "    <tr>\n",
       "      <th>0</th>\n",
       "      <td>2005</td>\n",
       "      <td>1</td>\n",
       "      <td>McElroy Colin</td>\n",
       "      <td>GK</td>\n",
       "      <td>6-5</td>\n",
       "      <td>NaN</td>\n",
       "      <td>NaN</td>\n",
       "      <td>Sr.</td>\n",
       "      <td>Solana Beach, CA / Torrey Pines HS</td>\n",
       "    </tr>\n",
       "    <tr>\n",
       "      <th>1</th>\n",
       "      <td>2005</td>\n",
       "      <td>1</td>\n",
       "      <td>Bryan Corbett</td>\n",
       "      <td>GK</td>\n",
       "      <td>6-2</td>\n",
       "      <td>NaN</td>\n",
       "      <td>NaN</td>\n",
       "      <td>Sr.</td>\n",
       "      <td>Carmichael, CA / Rio Americano HS</td>\n",
       "    </tr>\n",
       "    <tr>\n",
       "      <th>2</th>\n",
       "      <td>2005</td>\n",
       "      <td>1</td>\n",
       "      <td>David Miller</td>\n",
       "      <td>GK</td>\n",
       "      <td>6-0</td>\n",
       "      <td>NaN</td>\n",
       "      <td>NaN</td>\n",
       "      <td>Sr.</td>\n",
       "      <td>Ventura, CA / Ventura HS</td>\n",
       "    </tr>\n",
       "    <tr>\n",
       "      <th>3</th>\n",
       "      <td>2005</td>\n",
       "      <td>1</td>\n",
       "      <td>Jeremy Randall</td>\n",
       "      <td>GK</td>\n",
       "      <td>6-3</td>\n",
       "      <td>NaN</td>\n",
       "      <td>NaN</td>\n",
       "      <td>Jr.</td>\n",
       "      <td>Lake Forest, CA / El Toro HS</td>\n",
       "    </tr>\n",
       "    <tr>\n",
       "      <th>4</th>\n",
       "      <td>2005</td>\n",
       "      <td>2</td>\n",
       "      <td>Chris Finegold</td>\n",
       "      <td>2M</td>\n",
       "      <td>6-6</td>\n",
       "      <td>NaN</td>\n",
       "      <td>NaN</td>\n",
       "      <td>Sr.</td>\n",
       "      <td>Palo Alto, CA / Palo Alto HS</td>\n",
       "    </tr>\n",
       "  </tbody>\n",
       "</table>\n",
       "</div>"
      ],
      "text/plain": [
       "   Year JerseyNum            Name Position Height  Weight Major Class  \\\n",
       "0  2005         1   McElroy Colin       GK    6-5     NaN   NaN   Sr.   \n",
       "1  2005         1   Bryan Corbett       GK    6-2     NaN   NaN   Sr.   \n",
       "2  2005         1    David Miller       GK    6-0     NaN   NaN   Sr.   \n",
       "3  2005         1  Jeremy Randall       GK    6-3     NaN   NaN   Jr.   \n",
       "4  2005         2  Chris Finegold       2M    6-6     NaN   NaN   Sr.   \n",
       "\n",
       "                   HomeTownHighSchool  \n",
       "0  Solana Beach, CA / Torrey Pines HS  \n",
       "1   Carmichael, CA / Rio Americano HS  \n",
       "2            Ventura, CA / Ventura HS  \n",
       "3        Lake Forest, CA / El Toro HS  \n",
       "4        Palo Alto, CA / Palo Alto HS  "
      ]
     },
     "execution_count": 18,
     "metadata": {},
     "output_type": "execute_result"
    }
   ],
   "source": [
    "male_basketball_bio.head()\n",
    "female_basketball_bio.head()"
   ]
  },
  {
   "cell_type": "code",
   "execution_count": 23,
   "metadata": {},
   "outputs": [],
   "source": [
    "male_basketball_bio['Sport'] = 'Basketball'\n",
    "male_soccer_bio['Sport'] = 'Soccer'\n",
    "male_volleyball_bio['Sport'] = 'Volleyball'\n",
    "male_waterpolo_bio['Sport'] = 'Water Polo'\n",
    "female_basketball_bio['Sport'] = 'Basketball'\n",
    "female_soccer_bio['Sport'] = 'Soccer'\n",
    "female_volleyball_bio['Sport'] = 'Volleyball'\n",
    "female_waterpolo_bio['Sport'] = 'Water Polo'"
   ]
  },
  {
   "cell_type": "markdown",
   "metadata": {},
   "source": [
    "Put all datasets of male athelets bio into one"
   ]
  },
  {
   "cell_type": "code",
   "execution_count": 29,
   "metadata": {},
   "outputs": [
    {
     "data": {
      "text/plain": [
       "array(['Basketball', 'Soccer', 'Volleyball', 'Water Polo'], dtype=object)"
      ]
     },
     "execution_count": 29,
     "metadata": {},
     "output_type": "execute_result"
    }
   ],
   "source": [
    "male_athelet_df = pd.concat([male_basketball_bio, male_soccer_bio, male_volleyball_bio, male_waterpolo_bio], axis=0)\n",
    "male_athelet_df.shape[0]\n",
    "male_basketball_bio.shape[0] + male_soccer_bio.shape[0] + male_volleyball_bio.shape[0] + male_waterpolo_bio.shape[0]\n",
    "male_athelet_df['Sport'].unique()"
   ]
  },
  {
   "cell_type": "markdown",
   "metadata": {},
   "source": [
    "Put all datasets of female atheletes bio into one"
   ]
  },
  {
   "cell_type": "code",
   "execution_count": 30,
   "metadata": {},
   "outputs": [
    {
     "data": {
      "text/plain": [
       "array(['Basketball', 'Soccer', 'Volleyball', 'Water Polo'], dtype=object)"
      ]
     },
     "execution_count": 30,
     "metadata": {},
     "output_type": "execute_result"
    }
   ],
   "source": [
    "female_athelet_df = pd.concat([female_basketball_bio, female_soccer_bio, female_volleyball_bio, female_waterpolo_bio], axis=0)\n",
    "female_athelet_df.shape[0]\n",
    "female_basketball_bio.shape[0] + female_soccer_bio.shape[0] + female_volleyball_bio.shape[0] + female_waterpolo_bio.shape[0]\n",
    "female_athelet_df['Sport'].unique()"
   ]
  },
  {
   "cell_type": "markdown",
   "metadata": {},
   "source": [
    "## Dataset #2 (if you have more than one, use name instead of number here)"
   ]
  },
  {
   "cell_type": "code",
   "execution_count": null,
   "metadata": {},
   "outputs": [],
   "source": []
  },
  {
   "cell_type": "code",
   "execution_count": 37,
   "metadata": {},
   "outputs": [
    {
     "data": {
      "text/html": [
       "<div>\n",
       "<style scoped>\n",
       "    .dataframe tbody tr th:only-of-type {\n",
       "        vertical-align: middle;\n",
       "    }\n",
       "\n",
       "    .dataframe tbody tr th {\n",
       "        vertical-align: top;\n",
       "    }\n",
       "\n",
       "    .dataframe thead th {\n",
       "        text-align: right;\n",
       "    }\n",
       "</style>\n",
       "<table border=\"1\" class=\"dataframe\">\n",
       "  <thead>\n",
       "    <tr style=\"text-align: right;\">\n",
       "      <th></th>\n",
       "      <th>Overall Record: 19-9   Conf: 13-3   Home: 13-1   Away: 6-7   Neutral: 0-1</th>\n",
       "      <th>Unnamed: 1</th>\n",
       "      <th>Unnamed: 2</th>\n",
       "      <th>Unnamed: 3</th>\n",
       "      <th>Unnamed: 4</th>\n",
       "      <th>Unnamed: 5</th>\n",
       "      <th>Unnamed: 6</th>\n",
       "      <th>Unnamed: 7</th>\n",
       "      <th>Unnamed: 8</th>\n",
       "      <th>Unnamed: 9</th>\n",
       "      <th>...</th>\n",
       "      <th>Unnamed: 19</th>\n",
       "      <th>Unnamed: 20</th>\n",
       "      <th>Unnamed: 21</th>\n",
       "      <th>Unnamed: 22</th>\n",
       "      <th>Unnamed: 23</th>\n",
       "      <th>Unnamed: 24</th>\n",
       "      <th>Unnamed: 25</th>\n",
       "      <th>Unnamed: 26</th>\n",
       "      <th>Unnamed: 27</th>\n",
       "      <th>Unnamed: 28</th>\n",
       "    </tr>\n",
       "  </thead>\n",
       "  <tbody>\n",
       "    <tr>\n",
       "      <th>0</th>\n",
       "      <td>#</td>\n",
       "      <td>Player</td>\n",
       "      <td>NaN</td>\n",
       "      <td>GP-GS</td>\n",
       "      <td>MIN</td>\n",
       "      <td>NaN</td>\n",
       "      <td>AVG</td>\n",
       "      <td>NaN</td>\n",
       "      <td>FG FG-FGA</td>\n",
       "      <td>NaN</td>\n",
       "      <td>...</td>\n",
       "      <td>NaN</td>\n",
       "      <td>AVG</td>\n",
       "      <td>PF</td>\n",
       "      <td>DQ</td>\n",
       "      <td>A</td>\n",
       "      <td>TO</td>\n",
       "      <td>BLK</td>\n",
       "      <td>STL</td>\n",
       "      <td>PTS</td>\n",
       "      <td>AVG</td>\n",
       "    </tr>\n",
       "    <tr>\n",
       "      <th>1</th>\n",
       "      <td>4</td>\n",
       "      <td>Pope, Bryce</td>\n",
       "      <td>NaN</td>\n",
       "      <td>28-28</td>\n",
       "      <td>991</td>\n",
       "      <td>NaN</td>\n",
       "      <td>35.4</td>\n",
       "      <td>NaN</td>\n",
       "      <td>181-431</td>\n",
       "      <td>NaN</td>\n",
       "      <td>...</td>\n",
       "      <td>111</td>\n",
       "      <td>4</td>\n",
       "      <td>29</td>\n",
       "      <td>0</td>\n",
       "      <td>48</td>\n",
       "      <td>34</td>\n",
       "      <td>4</td>\n",
       "      <td>27</td>\n",
       "      <td>508</td>\n",
       "      <td>18.1</td>\n",
       "    </tr>\n",
       "    <tr>\n",
       "      <th>2</th>\n",
       "      <td>13</td>\n",
       "      <td>McGhie, Tyler</td>\n",
       "      <td>NaN</td>\n",
       "      <td>18-0</td>\n",
       "      <td>507</td>\n",
       "      <td>NaN</td>\n",
       "      <td>28.2</td>\n",
       "      <td>NaN</td>\n",
       "      <td>92-206</td>\n",
       "      <td>NaN</td>\n",
       "      <td>...</td>\n",
       "      <td>48</td>\n",
       "      <td>2.7</td>\n",
       "      <td>21</td>\n",
       "      <td>1</td>\n",
       "      <td>23</td>\n",
       "      <td>6</td>\n",
       "      <td>2</td>\n",
       "      <td>10</td>\n",
       "      <td>251</td>\n",
       "      <td>13.9</td>\n",
       "    </tr>\n",
       "    <tr>\n",
       "      <th>3</th>\n",
       "      <td>12</td>\n",
       "      <td>Tait-Jones, Aniwaniwa</td>\n",
       "      <td>NaN</td>\n",
       "      <td>28-28</td>\n",
       "      <td>825</td>\n",
       "      <td>NaN</td>\n",
       "      <td>29.5</td>\n",
       "      <td>NaN</td>\n",
       "      <td>129-229</td>\n",
       "      <td>NaN</td>\n",
       "      <td>...</td>\n",
       "      <td>163</td>\n",
       "      <td>5.8</td>\n",
       "      <td>60</td>\n",
       "      <td>1</td>\n",
       "      <td>91</td>\n",
       "      <td>54</td>\n",
       "      <td>10</td>\n",
       "      <td>30</td>\n",
       "      <td>374</td>\n",
       "      <td>13.4</td>\n",
       "    </tr>\n",
       "    <tr>\n",
       "      <th>4</th>\n",
       "      <td>35</td>\n",
       "      <td>Nwaokorie, Francis</td>\n",
       "      <td>NaN</td>\n",
       "      <td>28-28</td>\n",
       "      <td>878</td>\n",
       "      <td>NaN</td>\n",
       "      <td>31.4</td>\n",
       "      <td>NaN</td>\n",
       "      <td>106-234</td>\n",
       "      <td>NaN</td>\n",
       "      <td>...</td>\n",
       "      <td>143</td>\n",
       "      <td>5.1</td>\n",
       "      <td>77</td>\n",
       "      <td>3</td>\n",
       "      <td>23</td>\n",
       "      <td>39</td>\n",
       "      <td>21</td>\n",
       "      <td>19</td>\n",
       "      <td>323</td>\n",
       "      <td>11.5</td>\n",
       "    </tr>\n",
       "  </tbody>\n",
       "</table>\n",
       "<p>5 rows × 29 columns</p>\n",
       "</div>"
      ],
      "text/plain": [
       "  Overall Record: 19-9   Conf: 13-3   Home: 13-1   Away: 6-7   Neutral: 0-1  \\\n",
       "0                                                  #                          \n",
       "1                                                  4                          \n",
       "2                                                 13                          \n",
       "3                                                 12                          \n",
       "4                                                 35                          \n",
       "\n",
       "              Unnamed: 1 Unnamed: 2 Unnamed: 3 Unnamed: 4 Unnamed: 5  \\\n",
       "0                 Player        NaN      GP-GS        MIN        NaN   \n",
       "1            Pope, Bryce        NaN      28-28        991        NaN   \n",
       "2          McGhie, Tyler        NaN       18-0        507        NaN   \n",
       "3  Tait-Jones, Aniwaniwa        NaN      28-28        825        NaN   \n",
       "4     Nwaokorie, Francis        NaN      28-28        878        NaN   \n",
       "\n",
       "  Unnamed: 6 Unnamed: 7 Unnamed: 8  Unnamed: 9  ... Unnamed: 19 Unnamed: 20  \\\n",
       "0        AVG        NaN  FG FG-FGA         NaN  ...         NaN         AVG   \n",
       "1       35.4        NaN    181-431         NaN  ...         111           4   \n",
       "2       28.2        NaN     92-206         NaN  ...          48         2.7   \n",
       "3       29.5        NaN    129-229         NaN  ...         163         5.8   \n",
       "4       31.4        NaN    106-234         NaN  ...         143         5.1   \n",
       "\n",
       "  Unnamed: 21 Unnamed: 22 Unnamed: 23 Unnamed: 24 Unnamed: 25 Unnamed: 26  \\\n",
       "0          PF          DQ           A          TO         BLK         STL   \n",
       "1          29           0          48          34           4          27   \n",
       "2          21           1          23           6           2          10   \n",
       "3          60           1          91          54          10          30   \n",
       "4          77           3          23          39          21          19   \n",
       "\n",
       "  Unnamed: 27 Unnamed: 28  \n",
       "0         PTS         AVG  \n",
       "1         508        18.1  \n",
       "2         251        13.9  \n",
       "3         374        13.4  \n",
       "4         323        11.5  \n",
       "\n",
       "[5 rows x 29 columns]"
      ]
     },
     "execution_count": 37,
     "metadata": {},
     "output_type": "execute_result"
    }
   ],
   "source": [
    "## YOUR CODE TO LOAD/CLEAN/TIDY/WRANGLE THE DATA GOES HERE\n",
    "## FEEL FREE TO ADD MULTIPLE CELLS PER SECTION \n",
    "male_basketball_performance_2023 = pd.read_excel(\"data/performance_data/excel/Men_s Basketball/2023 Men's Basketball.xlsx\")\n",
    "male_basketball_performance_2022 = pd.read_excel(\"data/performance_data/excel/Men_s Basketball/2022 Men's Basketball.xlsx\")\n",
    "male_basketball_performance_2021 = pd.read_excel(\"data/performance_data/excel/Men_s Basketball/2021 Men's Basketball.xlsx\")\n",
    "male_basketball_performance_2020 = pd.read_excel(\"data/performance_data/excel/Men_s Basketball/2020 Men's Basketball.xlsx\")\n",
    "male_basketball_performance_2019 = pd.read_excel(\"data/performance_data/excel/Men_s Basketball/2019 Men's Basketball.xlsx\")\n",
    "male_basketball_performance_2018 = pd.read_excel(\"data/performance_data/excel/Men_s Basketball/2018 Men's Basketball.xlsx\")\n",
    "male_basketball_performance_2017 = pd.read_excel(\"data/performance_data/excel/Men_s Basketball/2017 Men's Basketball.xlsx\")\n",
    "male_basketball_performance_2016 = pd.read_excel(\"data/performance_data/excel/Men_s Basketball/2016 Men's Basketball.xlsx\")"
   ]
  },
  {
   "cell_type": "code",
   "execution_count": 42,
   "metadata": {},
   "outputs": [
    {
     "data": {
      "text/plain": [
       "Index(['Overall Record: 19-9   Conf: 13-3   Home: 13-1   Away: 6-7   Neutral: 0-1',\n",
       "       'Unnamed: 1', 'Unnamed: 2', 'Unnamed: 3', 'Unnamed: 4', 'Unnamed: 5',\n",
       "       'Unnamed: 6', 'Unnamed: 7', 'Unnamed: 8', 'Unnamed: 9', 'Unnamed: 10',\n",
       "       'Unnamed: 11', 'Unnamed: 12', 'Unnamed: 13', 'Unnamed: 14',\n",
       "       'Unnamed: 15', 'Unnamed: 16', 'Unnamed: 17', 'Unnamed: 18',\n",
       "       'Unnamed: 19', 'Unnamed: 20', 'Unnamed: 21', 'Unnamed: 22',\n",
       "       'Unnamed: 23', 'Unnamed: 24', 'Unnamed: 25', 'Unnamed: 26',\n",
       "       'Unnamed: 27', 'Unnamed: 28', 'Sport', 'Year',\n",
       "       'Overall Record: 10-20   Conf: 5-13   Home: 4-10   Away: 6-9   Neutral: 0-1',\n",
       "       '2021-2022 UC San Diego Men's Basketball\\nOverall Statistics (as of Mar 5, 2022)',\n",
       "       '2020-2021 UC San Diego Men's Basketball\\nOverall Statistics (as of Mar 11, 2021)',\n",
       "       'Overall Record: 30-1   Conf: 21-1   Home: 14-1   Away: 14-0   Neutral: 2-0',\n",
       "       'Unnamed: 29',\n",
       "       'Overall Record: 26-8   Conf: 17-5   Home: 14-1   Away: 7-6   Neutral: 5-1',\n",
       "       'Unnamed: 30', 'Unnamed: 31',\n",
       "       'Overall Record: 21-11   Conf: 15-7   Home: 8-4   Away: 11-4   Neutral: 2-3',\n",
       "       'Overall Record: 27-6   Conf: 17-3   Home: 15-3   Away: 9-3   Neutral: 3-0'],\n",
       "      dtype='object')"
      ]
     },
     "execution_count": 42,
     "metadata": {},
     "output_type": "execute_result"
    }
   ],
   "source": [
    "male_basketball_performance_2023['Sport'] = 'Basketball'\n",
    "male_basketball_performance_2022['Sport'] = 'Basketball'\n",
    "male_basketball_performance_2021['Sport'] = 'Basketball'\n",
    "male_basketball_performance_2020['Sport'] = 'Basketball'\n",
    "male_basketball_performance_2019['Sport'] = 'Basketball'\n",
    "male_basketball_performance_2018['Sport'] = 'Basketball'\n",
    "male_basketball_performance_2017['Sport'] = 'Basketball'\n",
    "male_basketball_performance_2016['Sport'] = 'Basketball'\n",
    "male_basketball_performance_2023['Year'] = 2023\n",
    "male_basketball_performance_2022['Year'] = 2022\n",
    "male_basketball_performance_2021['Year'] = 2021\n",
    "male_basketball_performance_2020['Year'] = 2020\n",
    "male_basketball_performance_2019['Year'] = 2019\n",
    "male_basketball_performance_2018['Year'] = 2018\n",
    "male_basketball_performance_2017['Year'] = 2017\n",
    "male_basketball_performance_2016['Year'] = 2016\n",
    "male_basketball_performance = pd.concat([male_basketball_performance_2023, male_basketball_performance_2022, male_basketball_performance_2021, male_basketball_performance_2020, male_basketball_performance_2019, male_basketball_performance_2018, male_basketball_performance_2017, male_basketball_performance_2016], axis=0)\n",
    "male_basketball_performance.columns"
   ]
  },
  {
   "cell_type": "code",
   "execution_count": 43,
   "metadata": {},
   "outputs": [],
   "source": [
    "male_soccer_performance_2023 = pd.read_excel(\"data/performance_data/excel/Men_s Soccer/2023 Men's Soccer.xlsx\")\n",
    "male_soccer_performance_2022 = pd.read_excel(\"data/performance_data/excel/Men_s Soccer/2022 Men's Soccer.xlsx\")\n",
    "male_soccer_performance_2021 = pd.read_excel(\"data/performance_data/excel/Men_s Soccer/2021 Men's Soccer.xlsx\")\n",
    "male_soccer_performance_2019 = pd.read_excel(\"data/performance_data/excel/Men_s Soccer/2019 Men's Soccer.xlsx\")\n",
    "male_soccer_performance_2018 = pd.read_excel(\"data/performance_data/excel/Men_s Soccer/2018 Men's Soccer.xlsx\")\n",
    "male_soccer_performance_2017 = pd.read_excel(\"data/performance_data/excel/Men_s Soccer/2017 Men's Soccer.xlsx\")\n",
    "male_soccer_performance_2015 = pd.read_excel(\"data/performance_data/excel/Men_s Soccer/2015 Men's Soccer.xlsx\")\n",
    "male_soccer_performance_2013 = pd.read_excel(\"data/performance_data/excel/Men_s Soccer/2013 Men's Soccer.xlsx\")"
   ]
  },
  {
   "cell_type": "code",
   "execution_count": 45,
   "metadata": {},
   "outputs": [
    {
     "data": {
      "text/plain": [
       "534"
      ]
     },
     "execution_count": 45,
     "metadata": {},
     "output_type": "execute_result"
    }
   ],
   "source": [
    "male_soccer_performance_2023['Sport'] = 'Soccer'\n",
    "male_soccer_performance_2022['Sport'] = 'Soccer'\n",
    "male_soccer_performance_2021['Sport'] = 'Soccer'\n",
    "male_soccer_performance_2019['Sport'] = 'Soccer'\n",
    "male_soccer_performance_2018['Sport'] = 'Soccer'\n",
    "male_soccer_performance_2017['Sport'] = 'Soccer'\n",
    "male_soccer_performance_2015['Sport'] = 'Soccer'\n",
    "male_soccer_performance_2013['Sport'] = 'Soccer'\n",
    "male_soccer_performance_2023['Year'] = 2023\n",
    "male_soccer_performance_2022['Year'] = 2022\n",
    "male_soccer_performance_2021['Year'] = 2021\n",
    "male_soccer_performance_2019['Year'] = 2019\n",
    "male_soccer_performance_2018['Year'] = 2018\n",
    "male_soccer_performance_2017['Year'] = 2017\n",
    "male_soccer_performance_2015['Year'] = 2015\n",
    "male_soccer_performance_2013['Year'] = 2013\n",
    "male_soccer_performance = pd.concat([male_soccer_performance_2023, male_soccer_performance_2022,male_soccer_performance_2021,male_soccer_performance_2019,male_soccer_performance_2018,male_soccer_performance_2017,male_soccer_performance_2015,male_soccer_performance_2013], axis=0)\n",
    "male_soccer_performance.shape[0]"
   ]
  },
  {
   "cell_type": "code",
   "execution_count": 53,
   "metadata": {},
   "outputs": [],
   "source": [
    "## YOUR CODE TO LOAD/CLEAN/TIDY/WRANGLE THE DATA GOES HERE\n",
    "## FEEL FREE TO ADD MULTIPLE CELLS PER SECTION \n",
    "male_volleyball_performance_2024 = pd.read_excel(\"data/performance_data/excel/Men_s Volleyball/2024 Men's Volleyball.xlsx\")\n",
    "male_volleyball_performance_2023 = pd.read_excel(\"data/performance_data/excel/Men_s Volleyball/2023 Men's Volleyball.xlsx\")\n",
    "male_volleyball_performance_2022 = pd.read_excel(\"data/performance_data/excel/Men_s Volleyball/2022 Men's Volleyball.xlsx\")\n",
    "male_volleyball_performance_2021 = pd.read_excel(\"data/performance_data/excel/Men_s Volleyball/2021 Men's Volleyball.xlsx\")\n",
    "male_volleyball_performance_2020 = pd.read_excel(\"data/performance_data/excel/Men_s Volleyball/2020 Men's Volleyball.xlsx\")\n",
    "male_volleyball_performance_2019 = pd.read_excel(\"data/performance_data/excel/Men_s Volleyball/2019 Men's Volleyball.xlsx\")\n",
    "male_volleyball_performance_2018 = pd.read_excel(\"data/performance_data/excel/Men_s Volleyball/2018 Men's Volleyball.xlsx\")\n",
    "male_volleyball_performance_2017 = pd.read_excel(\"data/performance_data/excel/Men_s Volleyball/2017 Men's Volleyball.xlsx\")\n"
   ]
  },
  {
   "cell_type": "code",
   "execution_count": 54,
   "metadata": {},
   "outputs": [
    {
     "data": {
      "text/plain": [
       "515"
      ]
     },
     "execution_count": 54,
     "metadata": {},
     "output_type": "execute_result"
    }
   ],
   "source": [
    "male_volleyball_performance_2024['Sport'] = 'Volleyball'\n",
    "male_volleyball_performance_2023['Sport'] = 'Volleyball'\n",
    "male_volleyball_performance_2022['Sport'] = 'Volleyball'\n",
    "male_volleyball_performance_2021['Sport'] = 'Volleyball'\n",
    "male_volleyball_performance_2020['Sport'] = 'Volleyball'\n",
    "male_volleyball_performance_2019['Sport'] = 'Volleyball'\n",
    "male_volleyball_performance_2018['Sport'] = 'Volleyball'\n",
    "male_volleyball_performance_2017['Sport'] = 'Volleyball'\n",
    "male_volleyball_performance_2024['Year'] = 2024\n",
    "male_volleyball_performance_2023['Year'] = 2023\n",
    "male_volleyball_performance_2022['Year'] = 2022\n",
    "male_volleyball_performance_2021['Year'] = 2021\n",
    "male_volleyball_performance_2020['Year'] = 2020\n",
    "male_volleyball_performance_2019['Year'] = 2019\n",
    "male_volleyball_performance_2018['Year'] = 2018\n",
    "male_volleyball_performance_2017['Year'] = 2017\n",
    "male_volleyball_performance = pd.concat([male_volleyball_performance_2024,male_volleyball_performance_2023,male_volleyball_performance_2022,male_volleyball_performance_2021,male_volleyball_performance_2020,male_volleyball_performance_2019,male_volleyball_performance_2018,male_volleyball_performance_2017], axis=0)\n",
    "male_volleyball_performance.shape[0]"
   ]
  },
  {
   "cell_type": "code",
   "execution_count": 55,
   "metadata": {},
   "outputs": [],
   "source": [
    "male_waterpolo_performance_2023 = pd.read_excel(\"data/performance_data/excel/Men_s WaterPolo/2023 Men's Water Polo.xlsx\")\n",
    "male_waterpolo_performance_2022 = pd.read_excel(\"data/performance_data/excel/Men_s WaterPolo/2022 Men's Water Polo.xlsx\")\n",
    "male_waterpolo_performance_2021 = pd.read_excel(\"data/performance_data/excel/Men_s WaterPolo/2021 Men's Water Polo.xlsx\")"
   ]
  },
  {
   "cell_type": "code",
   "execution_count": 57,
   "metadata": {},
   "outputs": [
    {
     "data": {
      "text/plain": [
       "702"
      ]
     },
     "execution_count": 57,
     "metadata": {},
     "output_type": "execute_result"
    }
   ],
   "source": [
    "male_waterpolo_performance_2023['Sport'] = 'Water Polo'\n",
    "male_waterpolo_performance_2022['Sport'] = 'Water Polo'\n",
    "male_waterpolo_performance_2021['Sport'] = 'Water Polo'\n",
    "male_waterpolo_performance_2023['Year'] = 2023\n",
    "male_waterpolo_performance_2022['Year'] = 2022\n",
    "male_waterpolo_performance_2021['Year'] = 2021\n",
    "male_waterpolo_performance = pd.concat([male_waterpolo_performance_2023,male_waterpolo_performance_2022,male_waterpolo_performance_2021], axis=0)\n",
    "male_basketball_performance.shape[0]"
   ]
  },
  {
   "cell_type": "code",
   "execution_count": 60,
   "metadata": {},
   "outputs": [],
   "source": [
    "female_basketball_performance_2023 = pd.read_excel(\"data/performance_data/excel/Women_s Basketball/2023 Women_s Basketball.xlsx\")\n",
    "female_basketball_performance_2022 = pd.read_excel(\"data/performance_data/excel/Women_s Basketball/2022 Women_s Basketball.xlsx\")\n",
    "female_basketball_performance_2021 = pd.read_excel(\"data/performance_data/excel/Women_s Basketball/2021 Women_s Basketball.xlsx\")\n",
    "female_basketball_performance_2020 = pd.read_excel(\"data/performance_data/excel/Women_s Basketball/2020 Women_s Basketball.xlsx\")\n",
    "female_basketball_performance_2019 = pd.read_excel(\"data/performance_data/excel/Women_s Basketball/2019 Women_s Basketball.xlsx\")\n",
    "female_basketball_performance_2018 = pd.read_excel(\"data/performance_data/excel/Women_s Basketball/2018 Women_s Basketball.xlsx\")\n",
    "female_basketball_performance_2017 = pd.read_excel(\"data/performance_data/excel/Women_s Basketball/2017 Women_s Basketball.xlsx\")\n",
    "female_basketball_performance_2016 = pd.read_excel(\"data/performance_data/excel/Women_s Basketball/2016 Women_s Basketball.xlsx\")\n",
    "female_basketball_performance_2015 = pd.read_excel(\"data/performance_data/excel/Women_s Basketball/2015 Women_s Basketball.xlsx\")\n",
    "female_basketball_performance_2014 = pd.read_excel(\"data/performance_data/excel/Women_s Basketball/2014 Women_s Basketball.xlsx\")\n",
    "female_basketball_performance_2013 = pd.read_excel(\"data/performance_data/excel/Women_s Basketball/2013 Women's Basketball.xlsx\")\n",
    "female_basketball_performance_2012 = pd.read_excel(\"data/performance_data/excel/Women_s Basketball/2012 Women's Basketball.xlsx\")\n",
    "female_basketball_performance_2011 = pd.read_excel(\"data/performance_data/excel/Women_s Basketball/2011 Women's Basketball.xlsx\")\n",
    "female_basketball_performance_2010 = pd.read_excel(\"data/performance_data/excel/Women_s Basketball/2010 Women's Basketball.xlsx\")"
   ]
  },
  {
   "cell_type": "code",
   "execution_count": 61,
   "metadata": {},
   "outputs": [
    {
     "data": {
      "text/plain": [
       "1378"
      ]
     },
     "execution_count": 61,
     "metadata": {},
     "output_type": "execute_result"
    }
   ],
   "source": [
    "female_basketball_performance_2023['Sport'] = 'Basketball'\n",
    "female_basketball_performance_2022['Sport'] = 'Basketball'\n",
    "female_basketball_performance_2021['Sport'] = 'Basketball'\n",
    "female_basketball_performance_2020['Sport'] = 'Basketball'\n",
    "female_basketball_performance_2019['Sport'] = 'Basketball'\n",
    "female_basketball_performance_2018['Sport'] = 'Basketball'\n",
    "female_basketball_performance_2017['Sport'] = 'Basketball'\n",
    "female_basketball_performance_2016['Sport'] = 'Basketball'\n",
    "female_basketball_performance_2015['Sport'] = 'Basketball'\n",
    "female_basketball_performance_2014['Sport'] = 'Basketball'\n",
    "female_basketball_performance_2013['Sport'] = 'Basketball'\n",
    "female_basketball_performance_2012['Sport'] = 'Basketball'\n",
    "female_basketball_performance_2011['Sport'] = 'Basketball'\n",
    "female_basketball_performance_2010['Sport'] = 'Basketball'\n",
    "female_basketball_performance_2023['Year'] = 2023\n",
    "female_basketball_performance_2022['Year'] = 2022\n",
    "female_basketball_performance_2021['Year'] = 2021\n",
    "female_basketball_performance_2020['Year'] = 2020\n",
    "female_basketball_performance_2019['Year'] = 2019\n",
    "female_basketball_performance_2018['Year'] = 2018\n",
    "female_basketball_performance_2017['Year'] = 2017\n",
    "female_basketball_performance_2016['Year'] = 2016\n",
    "female_basketball_performance_2015['Year'] = 2015\n",
    "female_basketball_performance_2014['Year'] = 2014\n",
    "female_basketball_performance_2013['Year'] = 2013\n",
    "female_basketball_performance_2012['Year'] = 2012\n",
    "female_basketball_performance_2011['Year'] = 2011\n",
    "female_basketball_performance_2010['Year'] = 2010\n",
    "female_basketball_performance = pd.concat([female_basketball_performance_2023,female_basketball_performance_2022,female_basketball_performance_2021,female_basketball_performance_2020,female_basketball_performance_2019,female_basketball_performance_2018,female_basketball_performance_2017,female_basketball_performance_2016,female_basketball_performance_2015,female_basketball_performance_2014,female_basketball_performance_2013,female_basketball_performance_2012,female_basketball_performance_2011,female_basketball_performance_2010], axis=0)\n",
    "female_basketball_performance.shape[0]\n"
   ]
  },
  {
   "cell_type": "code",
   "execution_count": 63,
   "metadata": {},
   "outputs": [],
   "source": [
    "female_soccer_performance_2023 = pd.read_excel(\"data/performance_data/excel/Women_s Soccer/2023 Women_s Soccer.xlsx\")\n",
    "female_soccer_performance_2022 = pd.read_excel(\"data/performance_data/excel/Women_s Soccer/2022 Women_s Soccer.xlsx\")\n",
    "female_soccer_performance_2021 = pd.read_excel(\"data/performance_data/excel/Women_s Soccer/2021 Women_s Soccer.xlsx\")\n",
    "female_soccer_performance_2019 = pd.read_excel(\"data/performance_data/excel/Women_s Soccer/2019 Women_s Soccer.xlsx\")\n",
    "female_soccer_performance_2018 = pd.read_excel(\"data/performance_data/excel/Women_s Soccer/2018 Women_s Soccer.xlsx\")\n",
    "female_soccer_performance_2017 = pd.read_excel(\"data/performance_data/excel/Women_s Soccer/2017 Women_s Soccer.xlsx\")\n",
    "female_soccer_performance_2016 = pd.read_excel(\"data/performance_data/excel/Women_s Soccer/2016 Women_s Soccer.xlsx\")\n",
    "female_soccer_performance_2015 = pd.read_excel(\"data/performance_data/excel/Women_s Soccer/2015 Women_s Soccer.xlsx\")\n",
    "female_soccer_performance_2014 = pd.read_excel(\"data/performance_data/excel/Women_s Soccer/2014 Women_s Soccer.xlsx\")\n",
    "female_soccer_performance_2013 = pd.read_excel(\"data/performance_data/excel/Women_s Soccer/2013 Women's Soccer.xlsx\")\n",
    "female_soccer_performance_2012 = pd.read_excel(\"data/performance_data/excel/Women_s Soccer/2012 Women's Soccer.xlsx\")\n",
    "female_soccer_performance_2011 = pd.read_excel(\"data/performance_data/excel/Women_s Soccer/2011 Women's Soccer.xlsx\")\n"
   ]
  },
  {
   "cell_type": "code",
   "execution_count": 64,
   "metadata": {},
   "outputs": [
    {
     "data": {
      "text/plain": [
       "838"
      ]
     },
     "execution_count": 64,
     "metadata": {},
     "output_type": "execute_result"
    }
   ],
   "source": [
    "female_soccer_performance_2023['Sport'] = 'Soccer'\n",
    "female_soccer_performance_2022['Sport'] = 'Soccer'\n",
    "female_soccer_performance_2021['Sport'] = 'Soccer'\n",
    "female_soccer_performance_2019['Sport'] = 'Soccer'\n",
    "female_soccer_performance_2018['Sport'] = 'Soccer'\n",
    "female_soccer_performance_2017['Sport'] = 'Soccer'\n",
    "female_soccer_performance_2016['Sport'] = 'Soccer'\n",
    "female_soccer_performance_2015['Sport'] = 'Soccer'\n",
    "female_soccer_performance_2014['Sport'] = 'Soccer'\n",
    "female_soccer_performance_2013['Sport'] = 'Soccer'\n",
    "female_soccer_performance_2012['Sport'] = 'Soccer'\n",
    "female_soccer_performance_2011['Sport'] = 'Soccer'\n",
    "female_soccer_performance_2023['Year'] = 2023\n",
    "female_soccer_performance_2022['Year'] = 2022\n",
    "female_soccer_performance_2021['Year'] = 2021\n",
    "female_soccer_performance_2019['Year'] = 2019\n",
    "female_soccer_performance_2018['Year'] = 2018\n",
    "female_soccer_performance_2017['Year'] = 2017\n",
    "female_soccer_performance_2016['Year'] = 2016\n",
    "female_soccer_performance_2015['Year'] = 2015\n",
    "female_soccer_performance_2014['Year'] = 2014\n",
    "female_soccer_performance_2013['Year'] = 2013\n",
    "female_soccer_performance_2012['Year'] = 2012\n",
    "female_soccer_performance_2011['Year'] = 2011\n",
    "female_soccer_performance = pd.concat([female_soccer_performance_2023,female_soccer_performance_2022,female_soccer_performance_2021,female_soccer_performance_2019,female_soccer_performance_2018,female_soccer_performance_2017,female_soccer_performance_2016,female_soccer_performance_2015,female_soccer_performance_2014,female_soccer_performance_2013,female_soccer_performance_2012,female_soccer_performance_2011], axis=0)\n",
    "female_soccer_performance.shape[0]\n"
   ]
  },
  {
   "cell_type": "code",
   "execution_count": 65,
   "metadata": {},
   "outputs": [],
   "source": [
    "\n",
    "female_volleyball_performance_2023 = pd.read_excel(\"data/performance_data/excel/Women_s Volleyball/2023 Women_s Volleyball.xlsx\")\n",
    "female_volleyball_performance_2022 = pd.read_excel(\"data/performance_data/excel/Women_s Volleyball/2022 Women_s Volleyball.xlsx\")\n",
    "female_volleyball_performance_2021 = pd.read_excel(\"data/performance_data/excel/Women_s Volleyball/2021 Women_s Volleyball.xlsx\")\n",
    "female_volleyball_performance_2019 = pd.read_excel(\"data/performance_data/excel/Women_s Volleyball/2019 Women_s Volleyball.xlsx\")\n",
    "female_volleyball_performance_2018 = pd.read_excel(\"data/performance_data/excel/Women_s Volleyball/2018 Women_s Volleyball.xlsx\")\n",
    "female_volleyball_performance_2017 = pd.read_excel(\"data/performance_data/excel/Women_s Volleyball/2017 Women_s Volleyball.xlsx\")"
   ]
  },
  {
   "cell_type": "code",
   "execution_count": 66,
   "metadata": {},
   "outputs": [
    {
     "data": {
      "text/plain": [
       "415"
      ]
     },
     "execution_count": 66,
     "metadata": {},
     "output_type": "execute_result"
    }
   ],
   "source": [
    "female_volleyball_performance_2023['Sport'] = 'Volleyball'\n",
    "female_volleyball_performance_2022['Sport'] = 'Volleyball'\n",
    "female_volleyball_performance_2021['Sport'] = 'Volleyball'\n",
    "female_volleyball_performance_2019['Sport'] = 'Volleyball'\n",
    "female_volleyball_performance_2018['Sport'] = 'Volleyball'\n",
    "female_volleyball_performance_2017['Sport'] = 'Volleyball'\n",
    "female_volleyball_performance_2023['Year'] = 2023\n",
    "female_volleyball_performance_2022['Year'] = 2022\n",
    "female_volleyball_performance_2021['Year'] = 2021\n",
    "female_volleyball_performance_2019['Year'] = 2019\n",
    "female_volleyball_performance_2018['Year'] = 2018\n",
    "female_volleyball_performance_2017['Year'] = 2017\n",
    "female_volleyball_performance = pd.concat([female_volleyball_performance_2023,female_volleyball_performance_2022,female_volleyball_performance_2021,female_volleyball_performance_2019,female_volleyball_performance_2018,female_volleyball_performance_2017], axis=0)\n",
    "female_volleyball_performance.shape[0]"
   ]
  },
  {
   "cell_type": "code",
   "execution_count": 67,
   "metadata": {},
   "outputs": [],
   "source": [
    "female_waterpolo_performance_2024 = pd.read_excel(\"data/performance_data/excel/Women_s WaterPolo/2024 Women's Water Polo.xlsx\")\n",
    "female_waterpolo_performance_2023 = pd.read_excel(\"data/performance_data/excel/Women_s WaterPolo/2023 Women's Water Polo.xlsx\")\n",
    "female_waterpolo_performance_2022 = pd.read_excel(\"data/performance_data/excel/Women_s WaterPolo/2022 Women's Water Polo.xlsx\")\n"
   ]
  },
  {
   "cell_type": "code",
   "execution_count": null,
   "metadata": {},
   "outputs": [],
   "source": [
    "male_waterpolo_performance_2023['Sport'] = 'Water Polo'\n",
    "male_waterpolo_performance_2022['Sport'] = 'Water Polo'\n",
    "male_waterpolo_performance_2021['Sport'] = 'Water Polo'\n",
    "male_waterpolo_performance_2023['Year'] = 2023\n",
    "male_waterpolo_performance_2022['Year'] = 2022\n",
    "male_waterpolo_performance_2021['Year'] = 2021\n",
    "male_waterpolo_performance = pd.concat([male_waterpolo_performance_2023,male_waterpolo_performance_2022,male_waterpolo_performance_2021], axis=0)\n",
    "male_basketball_performance.shape[0]"
   ]
  },
  {
   "cell_type": "markdown",
   "metadata": {},
   "source": [
    "# Ethics & Privacy"
   ]
  },
  {
   "cell_type": "markdown",
   "metadata": {},
   "source": [
    "- Thoughtful discussion of ethical concerns included\n",
    "- Ethical concerns consider the whole data science process (question asked, data collected, data being used, the bias in data, analysis, post-analysis, etc.)\n",
    "- How your group handled bias/ethical concerns clearly described\n",
    "\n",
    "Acknowledge and address any ethics & privacy related issues of your question(s), proposed dataset(s), and/or analyses. Use the information provided in lecture to guide your group discussion and thinking. If you need further guidance, check out [Deon's Ethics Checklist](http://deon.drivendata.org/#data-science-ethics-checklist). In particular:\n",
    "\n",
    "- Are there any biases/privacy/terms of use issues with the data you propsed?\n",
    "- Are there potential biases in your dataset(s), in terms of who it composes, and how it was collected, that may be problematic in terms of it allowing for equitable analysis? (For example, does your data exclude particular populations, or is it likely to reflect particular human biases in a way that could be a problem?)\n",
    "- How will you set out to detect these specific biases before, during, and after/when communicating your analysis?\n",
    "- Are there any other issues related to your topic area, data, and/or analyses that are potentially problematic in terms of data privacy and equitable impact?\n",
    "- How will you handle issues you identified?"
   ]
  },
  {
   "cell_type": "markdown",
   "metadata": {},
   "source": [
    "# Team Expectations "
   ]
  },
  {
   "cell_type": "markdown",
   "metadata": {},
   "source": [
    "\n",
    "Read over the [COGS108 Team Policies](https://github.com/COGS108/Projects/blob/master/COGS108_TeamPolicies.md) individually. Then, include your group’s expectations of one another for successful completion of your COGS108 project below. Discuss and agree on what all of your expectations are. Discuss how your team will communicate throughout the quarter and consider how you will communicate respectfully should conflicts arise. By including each member’s name above and by adding their name to the submission, you are indicating that you have read the COGS108 Team Policies, accept your team’s expectations below, and have every intention to fulfill them. These expectations are for your team’s use and benefit — they won’t be graded for their details.\n",
    "\n",
    "* *Team Expectation 1*\n",
    "* *Team Expectation 2*\n",
    "* *Team Expecation 3*\n",
    "* ..."
   ]
  },
  {
   "cell_type": "markdown",
   "metadata": {},
   "source": [
    "# Project Timeline Proposal"
   ]
  },
  {
   "cell_type": "markdown",
   "metadata": {},
   "source": [
    "Specify your team's specific project timeline. An example timeline has been provided. Changes the dates, times, names, and details to fit your group's plan.\n",
    "\n",
    "If you think you will need any special resources or training outside what we have covered in COGS 108 to solve your problem, then your proposal should state these clearly. For example, if you have selected a problem that involves implementing multiple neural networks, please state this so we can make sure you know what you’re doing and so we can point you to resources you will need to implement your project. Note that you are not required to use outside methods.\n",
    "\n",
    "\n",
    "\n",
    "| Meeting Date  | Meeting Time| Completed Before Meeting  | Discuss at Meeting |\n",
    "|---|---|---|---|\n",
    "| 1/20  |  1 PM | Read & Think about COGS 108 expectations; brainstorm topics/questions  | Determine best form of communication; Discuss and decide on final project topic; discuss hypothesis; begin background research | \n",
    "| 1/26  |  10 AM |  Do background research on topic | Discuss ideal dataset(s) and ethics; draft project proposal | \n",
    "| 2/1  | 10 AM  | Edit, finalize, and submit proposal; Search for datasets  | Discuss Wrangling and possible analytical approaches; Assign group members to lead each specific part   |\n",
    "| 2/14  | 6 PM  | Import & Wrangle Data (Ant Man); EDA (Hulk) | Review/Edit wrangling/EDA; Discuss Analysis Plan   |\n",
    "| 2/23  | 12 PM  | Finalize wrangling/EDA; Begin Analysis (Iron Man; Thor) | Discuss/edit Analysis; Complete project check-in |\n",
    "| 3/13  | 12 PM  | Complete analysis; Draft results/conclusion/discussion (Wasp)| Discuss/edit full project |\n",
    "| 3/20  | Before 11:59 PM  | NA | Turn in Final Project & Group Project Surveys |"
   ]
  }
 ],
 "metadata": {
  "kernelspec": {
   "display_name": "Python 3 (ipykernel)",
   "language": "python",
   "name": "python3"
  },
  "language_info": {
   "codemirror_mode": {
    "name": "ipython",
    "version": 3
   },
   "file_extension": ".py",
   "mimetype": "text/x-python",
   "name": "python",
   "nbconvert_exporter": "python",
   "pygments_lexer": "ipython3",
   "version": "3.9.6"
  }
 },
 "nbformat": 4,
 "nbformat_minor": 2
}
